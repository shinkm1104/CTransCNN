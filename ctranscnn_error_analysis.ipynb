{
 "cells": [
  {
   "cell_type": "code",
   "execution_count": 1,
   "metadata": {},
   "outputs": [
    {
     "name": "stderr",
     "output_type": "stream",
     "text": [
      "/userHome/userhome4/kyoungmin/miniconda3/envs/ctranscnn/lib/python3.9/site-packages/tqdm/auto.py:21: TqdmWarning: IProgress not found. Please update jupyter and ipywidgets. See https://ipywidgets.readthedocs.io/en/stable/user_install.html\n",
      "  from .autonotebook import tqdm as notebook_tqdm\n"
     ]
    },
    {
     "name": "stdout",
     "output_type": "stream",
     "text": [
      "Using device: cuda:3\n"
     ]
    }
   ],
   "source": [
    "import os\n",
    "import numpy as np\n",
    "import pandas as pd\n",
    "import matplotlib.pyplot as plt\n",
    "import torch\n",
    "import pickle\n",
    "from tqdm import tqdm\n",
    "from mmcv import Config\n",
    "from mmcv.runner import load_checkpoint\n",
    "import cv2\n",
    "from sklearn.metrics import roc_auc_score\n",
    "\n",
    "# 필요한 프로젝트 임포트\n",
    "import sys\n",
    "sys.path.append('/userHome/userhome4/kyoungmin/code/Xray/CTransCNN')\n",
    "from model.models import build_classifier\n",
    "\n",
    "# 저장 디렉토리 설정\n",
    "BASE_RESULT_DIR = \"/userHome/userhome4/kyoungmin/code/Xray/CTransCNN/result/error_analysis_ipynb_version\"\n",
    "os.makedirs(BASE_RESULT_DIR, exist_ok=True)\n",
    "plots_dir = os.path.join(BASE_RESULT_DIR, \"plots\")\n",
    "metrics_dir = os.path.join(BASE_RESULT_DIR, \"metrics\")\n",
    "os.makedirs(plots_dir, exist_ok=True)\n",
    "os.makedirs(metrics_dir, exist_ok=True)\n",
    "\n",
    "# GPU 설정\n",
    "device = 'cuda:3'\n",
    "print(f\"Using device: {device}\")\n",
    "\n",
    "# 질병 클래스 정의\n",
    "disease_labels = ['Atelectasis', 'Cardiomegaly', 'Effusion', 'Infiltration', \n",
    "                 'Mass', 'Nodule', 'Pneumonia', 'Pneumothorax', 'Consolidation', \n",
    "                 'Edema', 'Emphysema', 'Fibrosis', 'Pleural_Thickening', 'Hernia']\n"
   ]
  },
  {
   "cell_type": "code",
   "execution_count": null,
   "metadata": {},
   "outputs": [
    {
     "name": "stdout",
     "output_type": "stream",
     "text": [
      "Model config: ImageClassifier\n",
      "Model built: <class 'model.models.classifiers.image.ImageClassifier'>\n",
      "load checkpoint from local path: /userHome/userhome4/kyoungmin/code/Xray/CTransCNN/save/epoch_30.pth\n",
      "Checkpoint loaded successfully\n",
      "Model ready for inference\n"
     ]
    }
   ],
   "source": [
    "# 설정 파일 로드\n",
    "config_file = \"/userHome/userhome4/kyoungmin/code/Xray/CTransCNN/configs/NIH_ChestX-ray14_CTransCNN.py\"\n",
    "checkpoint_file = \"/userHome/userhome4/kyoungmin/code/Xray/CTransCNN/save/epoch_50.pth\"\n",
    "\n",
    "# 구성 로드\n",
    "cfg = Config.fromfile(config_file)\n",
    "print(\"Model config:\", cfg.model.type)\n",
    "\n",
    "# 모델 빌드 (원본 코드와 동일한 방식)\n",
    "model = build_classifier(cfg.model)\n",
    "print(f\"Model built: {type(model)}\")\n",
    "\n",
    "# 가중치 로드\n",
    "checkpoint = load_checkpoint(model, checkpoint_file, map_location='cpu')\n",
    "print(\"Checkpoint loaded successfully\")\n",
    "\n",
    "# GPU 설정\n",
    "model.to(device)\n",
    "model.eval()\n",
    "print(\"Model ready for inference\")\n"
   ]
  },
  {
   "cell_type": "code",
   "execution_count": 3,
   "metadata": {},
   "outputs": [],
   "source": [
    "# 셀 3: 이미지 전처리 및 예측 함수\n",
    "\n",
    "def preprocess_image(img_path):\n",
    "    \"\"\"이미지 전처리 함수\"\"\"\n",
    "    img = cv2.imread(img_path)\n",
    "    if img is None:\n",
    "        raise ValueError(f\"Failed to load image: {img_path}\")\n",
    "    \n",
    "    img = cv2.cvtColor(img, cv2.COLOR_BGR2RGB)\n",
    "    img = cv2.resize(img, (224, 224))  # config에 맞게 수정\n",
    "    img = img.astype(np.float32) / 255.0  # 정규화\n",
    "    \n",
    "    # ImageNet 평균 및 표준편차로 정규화\n",
    "    mean = np.array([0.485, 0.456, 0.406])\n",
    "    std = np.array([0.229, 0.224, 0.225])\n",
    "    img = (img - mean) / std\n",
    "    \n",
    "    # 형태 변환 (C, H, W)\n",
    "    img = np.transpose(img, (2, 0, 1))\n",
    "    \n",
    "    # 배치 차원 추가\n",
    "    img = np.expand_dims(img, axis=0)\n",
    "    \n",
    "    # 중요: 명시적으로 float32 데이터 타입 지정\n",
    "    return torch.tensor(img, dtype=torch.float32)\n",
    "\n",
    "\n",
    "def predict_single_image(model, img_path):\n",
    "    \"\"\"단일 이미지 예측 함수\"\"\"\n",
    "    try:\n",
    "        # 이미지 전처리\n",
    "        img_tensor = preprocess_image(img_path)\n",
    "        img_tensor = img_tensor.to(device)\n",
    "        \n",
    "        # 모델 추론\n",
    "        with torch.no_grad():\n",
    "            output = model(img_tensor, return_loss=False)\n",
    "        \n",
    "        # 출력 형식 확인 및 처리\n",
    "        if isinstance(output, torch.Tensor):\n",
    "            probs = torch.sigmoid(output).cpu().numpy()[0]\n",
    "        elif isinstance(output, tuple):\n",
    "            probs = torch.sigmoid(output[0]).cpu().numpy()[0]\n",
    "        else:\n",
    "            probs = torch.sigmoid(torch.tensor(output, device=device)).cpu().numpy()[0]\n",
    "        \n",
    "        return probs\n",
    "    except Exception as e:\n",
    "        print(f\"Error in prediction: {e}\")\n",
    "        return None\n"
   ]
  },
  {
   "cell_type": "code",
   "execution_count": 4,
   "metadata": {},
   "outputs": [
    {
     "name": "stdout",
     "output_type": "stream",
     "text": [
      "Loaded 25596 test files\n",
      "Found 12 image directories: ['/userHome/userhome4/kyoungmin/code/Xray/dataset/images_005/images', '/userHome/userhome4/kyoungmin/code/Xray/dataset/images_011/images', '/userHome/userhome4/kyoungmin/code/Xray/dataset/images_012/images', '/userHome/userhome4/kyoungmin/code/Xray/dataset/images_003/images', '/userHome/userhome4/kyoungmin/code/Xray/dataset/images_004/images', '/userHome/userhome4/kyoungmin/code/Xray/dataset/images_006/images', '/userHome/userhome4/kyoungmin/code/Xray/dataset/images_002/images', '/userHome/userhome4/kyoungmin/code/Xray/dataset/images_008/images', '/userHome/userhome4/kyoungmin/code/Xray/dataset/images_010/images', '/userHome/userhome4/kyoungmin/code/Xray/dataset/images_001/images', '/userHome/userhome4/kyoungmin/code/Xray/dataset/images_009/images', '/userHome/userhome4/kyoungmin/code/Xray/dataset/images_007/images']\n"
     ]
    }
   ],
   "source": [
    "# 셀 4: 테스트 이미지 예측\n",
    "# 테스트 이미지 목록 로드\n",
    "test_list_path = \"/userHome/userhome4/kyoungmin/code/Xray/dataset/test_list.txt\"\n",
    "with open(test_list_path, 'r') as f:\n",
    "    test_files = [line.strip() for line in f.readlines()]\n",
    "\n",
    "print(f\"Loaded {len(test_files)} test files\")\n",
    "\n",
    "# NIH 데이터셋 경로\n",
    "dataset_path = \"/userHome/userhome4/kyoungmin/code/Xray/dataset\"\n",
    "\n",
    "# 이미지 디렉토리 탐색\n",
    "image_dirs = []\n",
    "for root, dirs, files in os.walk(dataset_path):\n",
    "    if 'images' in dirs:\n",
    "        image_dirs.append(os.path.join(root, 'images'))\n",
    "\n",
    "print(f\"Found {len(image_dirs)} image directories: {image_dirs}\")\n",
    "\n",
    "# 샘플 이미지로 테스트 (선택 사항)\n",
    "if len(image_dirs) > 0 and len(test_files) > 0:\n",
    "    sample_path = os.path.join(image_dirs[0], test_files[0])\n",
    "    if os.path.exists(sample_path):\n",
    "        print(f\"Testing with sample image: {sample_path}\")\n",
    "        sample_pred = predict_single_image(model, sample_path)\n",
    "        print(f\"Sample prediction: {sample_pred}\")\n",
    "        print(f\"Top predicted diseases: {[disease_labels[i] for i in np.argsort(sample_pred)[-3:][::-1]]}\")\n"
   ]
  },
  {
   "cell_type": "code",
   "execution_count": 5,
   "metadata": {},
   "outputs": [
    {
     "name": "stdout",
     "output_type": "stream",
     "text": [
      "Running new predictions on test set...\n"
     ]
    },
    {
     "name": "stderr",
     "output_type": "stream",
     "text": [
      "  0%|          | 0/25596 [00:00<?, ?it/s]"
     ]
    },
    {
     "name": "stdout",
     "output_type": "stream",
     "text": [
      "Processing 1/25596\n"
     ]
    },
    {
     "name": "stderr",
     "output_type": "stream",
     "text": [
      "/userHome/userhome4/kyoungmin/miniconda3/envs/ctranscnn/lib/python3.9/site-packages/torch/nn/functional.py:1960: UserWarning: nn.functional.sigmoid is deprecated. Use torch.sigmoid instead.\n",
      "  warnings.warn(\"nn.functional.sigmoid is deprecated. Use torch.sigmoid instead.\")\n",
      "/tmp/ipykernel_517231/2436268393.py:45: UserWarning: Creating a tensor from a list of numpy.ndarrays is extremely slow. Please consider converting the list to a single numpy.ndarray with numpy.array() before converting to a tensor. (Triggered internally at  ../torch/csrc/utils/tensor_new.cpp:201.)\n",
      "  probs = torch.sigmoid(torch.tensor(output, device=device)).cpu().numpy()[0]\n",
      "  0%|          | 102/25596 [00:07<19:45, 21.50it/s] "
     ]
    },
    {
     "name": "stdout",
     "output_type": "stream",
     "text": [
      "Processing 101/25596\n"
     ]
    },
    {
     "name": "stderr",
     "output_type": "stream",
     "text": [
      "  1%|          | 203/25596 [00:12<21:58, 19.26it/s]"
     ]
    },
    {
     "name": "stdout",
     "output_type": "stream",
     "text": [
      "Processing 201/25596\n"
     ]
    },
    {
     "name": "stderr",
     "output_type": "stream",
     "text": [
      "  1%|          | 302/25596 [00:17<22:32, 18.70it/s]"
     ]
    },
    {
     "name": "stdout",
     "output_type": "stream",
     "text": [
      "Processing 301/25596\n"
     ]
    },
    {
     "name": "stderr",
     "output_type": "stream",
     "text": [
      "  2%|▏         | 403/25596 [00:23<22:32, 18.63it/s]  "
     ]
    },
    {
     "name": "stdout",
     "output_type": "stream",
     "text": [
      "Processing 401/25596\n"
     ]
    },
    {
     "name": "stderr",
     "output_type": "stream",
     "text": [
      "  2%|▏         | 502/25596 [00:28<20:43, 20.18it/s]"
     ]
    },
    {
     "name": "stdout",
     "output_type": "stream",
     "text": [
      "Processing 501/25596\n"
     ]
    },
    {
     "name": "stderr",
     "output_type": "stream",
     "text": [
      "  2%|▏         | 602/25596 [00:33<22:59, 18.12it/s]"
     ]
    },
    {
     "name": "stdout",
     "output_type": "stream",
     "text": [
      "Processing 601/25596\n"
     ]
    },
    {
     "name": "stderr",
     "output_type": "stream",
     "text": [
      "  3%|▎         | 704/25596 [00:38<20:25, 20.31it/s]"
     ]
    },
    {
     "name": "stdout",
     "output_type": "stream",
     "text": [
      "Processing 701/25596\n"
     ]
    },
    {
     "name": "stderr",
     "output_type": "stream",
     "text": [
      "  3%|▎         | 800/25596 [01:33<1:46:42,  3.87it/s]"
     ]
    },
    {
     "name": "stdout",
     "output_type": "stream",
     "text": [
      "Processing 801/25596\n"
     ]
    },
    {
     "name": "stderr",
     "output_type": "stream",
     "text": [
      "  4%|▎         | 900/25596 [02:35<2:08:10,  3.21it/s]"
     ]
    },
    {
     "name": "stdout",
     "output_type": "stream",
     "text": [
      "Processing 901/25596\n"
     ]
    },
    {
     "name": "stderr",
     "output_type": "stream",
     "text": [
      "  4%|▍         | 1000/25596 [03:46<3:31:18,  1.94it/s]"
     ]
    },
    {
     "name": "stdout",
     "output_type": "stream",
     "text": [
      "Processing 1001/25596\n"
     ]
    },
    {
     "name": "stderr",
     "output_type": "stream",
     "text": [
      "  4%|▍         | 1100/25596 [04:41<2:56:22,  2.31it/s]"
     ]
    },
    {
     "name": "stdout",
     "output_type": "stream",
     "text": [
      "Processing 1101/25596\n"
     ]
    },
    {
     "name": "stderr",
     "output_type": "stream",
     "text": [
      "  5%|▍         | 1201/25596 [05:19<21:14, 19.15it/s]  "
     ]
    },
    {
     "name": "stdout",
     "output_type": "stream",
     "text": [
      "Processing 1201/25596\n"
     ]
    },
    {
     "name": "stderr",
     "output_type": "stream",
     "text": [
      "  5%|▌         | 1301/25596 [05:28<34:01, 11.90it/s]"
     ]
    },
    {
     "name": "stdout",
     "output_type": "stream",
     "text": [
      "Processing 1301/25596\n"
     ]
    },
    {
     "name": "stderr",
     "output_type": "stream",
     "text": [
      "  5%|▌         | 1401/25596 [05:48<3:30:58,  1.91it/s]"
     ]
    },
    {
     "name": "stdout",
     "output_type": "stream",
     "text": [
      "Processing 1401/25596\n"
     ]
    },
    {
     "name": "stderr",
     "output_type": "stream",
     "text": [
      "  6%|▌         | 1502/25596 [06:04<1:05:47,  6.10it/s]"
     ]
    },
    {
     "name": "stdout",
     "output_type": "stream",
     "text": [
      "Processing 1501/25596\n"
     ]
    },
    {
     "name": "stderr",
     "output_type": "stream",
     "text": [
      "  6%|▋         | 1602/25596 [06:30<1:14:32,  5.37it/s]"
     ]
    },
    {
     "name": "stdout",
     "output_type": "stream",
     "text": [
      "Processing 1601/25596\n"
     ]
    },
    {
     "name": "stderr",
     "output_type": "stream",
     "text": [
      "  7%|▋         | 1703/25596 [06:42<24:54, 15.98it/s]  "
     ]
    },
    {
     "name": "stdout",
     "output_type": "stream",
     "text": [
      "Processing 1701/25596\n"
     ]
    },
    {
     "name": "stderr",
     "output_type": "stream",
     "text": [
      "  7%|▋         | 1804/25596 [06:48<27:33, 14.39it/s]"
     ]
    },
    {
     "name": "stdout",
     "output_type": "stream",
     "text": [
      "Processing 1801/25596\n"
     ]
    },
    {
     "name": "stderr",
     "output_type": "stream",
     "text": [
      "  7%|▋         | 1902/25596 [06:56<35:40, 11.07it/s]  "
     ]
    },
    {
     "name": "stdout",
     "output_type": "stream",
     "text": [
      "Processing 1901/25596\n"
     ]
    },
    {
     "name": "stderr",
     "output_type": "stream",
     "text": [
      "  8%|▊         | 2000/25596 [07:43<2:09:52,  3.03it/s] "
     ]
    },
    {
     "name": "stdout",
     "output_type": "stream",
     "text": [
      "Processing 2001/25596\n"
     ]
    },
    {
     "name": "stderr",
     "output_type": "stream",
     "text": [
      "  8%|▊         | 2101/25596 [08:14<1:15:44,  5.17it/s]"
     ]
    },
    {
     "name": "stdout",
     "output_type": "stream",
     "text": [
      "Processing 2101/25596\n"
     ]
    },
    {
     "name": "stderr",
     "output_type": "stream",
     "text": [
      "  9%|▊         | 2202/25596 [08:52<3:53:23,  1.67it/s]"
     ]
    },
    {
     "name": "stdout",
     "output_type": "stream",
     "text": [
      "Processing 2201/25596\n"
     ]
    },
    {
     "name": "stderr",
     "output_type": "stream",
     "text": [
      "  9%|▉         | 2300/25596 [09:38<2:36:49,  2.48it/s]"
     ]
    },
    {
     "name": "stdout",
     "output_type": "stream",
     "text": [
      "Processing 2301/25596\n"
     ]
    },
    {
     "name": "stderr",
     "output_type": "stream",
     "text": [
      "  9%|▉         | 2402/25596 [10:11<21:57, 17.60it/s]   "
     ]
    },
    {
     "name": "stdout",
     "output_type": "stream",
     "text": [
      "Processing 2401/25596\n"
     ]
    },
    {
     "name": "stderr",
     "output_type": "stream",
     "text": [
      " 10%|▉         | 2502/25596 [10:21<47:25,  8.12it/s]  "
     ]
    },
    {
     "name": "stdout",
     "output_type": "stream",
     "text": [
      "Processing 2501/25596\n"
     ]
    },
    {
     "name": "stderr",
     "output_type": "stream",
     "text": [
      " 10%|█         | 2602/25596 [10:37<46:44,  8.20it/s]  "
     ]
    },
    {
     "name": "stdout",
     "output_type": "stream",
     "text": [
      "Processing 2601/25596\n"
     ]
    },
    {
     "name": "stderr",
     "output_type": "stream",
     "text": [
      " 11%|█         | 2702/25596 [10:46<37:09, 10.27it/s]  "
     ]
    },
    {
     "name": "stdout",
     "output_type": "stream",
     "text": [
      "Processing 2701/25596\n"
     ]
    },
    {
     "name": "stderr",
     "output_type": "stream",
     "text": [
      " 11%|█         | 2803/25596 [10:55<27:02, 14.04it/s]"
     ]
    },
    {
     "name": "stdout",
     "output_type": "stream",
     "text": [
      "Processing 2801/25596\n"
     ]
    },
    {
     "name": "stderr",
     "output_type": "stream",
     "text": [
      " 11%|█▏        | 2901/25596 [11:06<30:24, 12.44it/s]  "
     ]
    },
    {
     "name": "stdout",
     "output_type": "stream",
     "text": [
      "Processing 2901/25596\n"
     ]
    },
    {
     "name": "stderr",
     "output_type": "stream",
     "text": [
      " 12%|█▏        | 3000/25596 [11:27<1:32:57,  4.05it/s]"
     ]
    },
    {
     "name": "stdout",
     "output_type": "stream",
     "text": [
      "Processing 3001/25596\n"
     ]
    },
    {
     "name": "stderr",
     "output_type": "stream",
     "text": [
      " 12%|█▏        | 3102/25596 [11:41<37:19, 10.04it/s]  "
     ]
    },
    {
     "name": "stdout",
     "output_type": "stream",
     "text": [
      "Processing 3101/25596\n"
     ]
    },
    {
     "name": "stderr",
     "output_type": "stream",
     "text": [
      " 13%|█▎        | 3203/25596 [11:51<30:38, 12.18it/s]  "
     ]
    },
    {
     "name": "stdout",
     "output_type": "stream",
     "text": [
      "Processing 3201/25596\n"
     ]
    },
    {
     "name": "stderr",
     "output_type": "stream",
     "text": [
      " 13%|█▎        | 3303/25596 [12:17<54:52,  6.77it/s]  "
     ]
    },
    {
     "name": "stdout",
     "output_type": "stream",
     "text": [
      "Processing 3301/25596\n"
     ]
    },
    {
     "name": "stderr",
     "output_type": "stream",
     "text": [
      " 13%|█▎        | 3401/25596 [12:45<2:36:44,  2.36it/s]"
     ]
    },
    {
     "name": "stdout",
     "output_type": "stream",
     "text": [
      "Processing 3401/25596\n"
     ]
    },
    {
     "name": "stderr",
     "output_type": "stream",
     "text": [
      " 14%|█▎        | 3500/25596 [13:02<36:19, 10.14it/s]  "
     ]
    },
    {
     "name": "stdout",
     "output_type": "stream",
     "text": [
      "Processing 3501/25596\n"
     ]
    },
    {
     "name": "stderr",
     "output_type": "stream",
     "text": [
      " 14%|█▍        | 3602/25596 [13:10<25:22, 14.45it/s]"
     ]
    },
    {
     "name": "stdout",
     "output_type": "stream",
     "text": [
      "Processing 3601/25596\n"
     ]
    },
    {
     "name": "stderr",
     "output_type": "stream",
     "text": [
      " 14%|█▍        | 3702/25596 [13:26<1:13:05,  4.99it/s]"
     ]
    },
    {
     "name": "stdout",
     "output_type": "stream",
     "text": [
      "Processing 3701/25596\n"
     ]
    },
    {
     "name": "stderr",
     "output_type": "stream",
     "text": [
      " 15%|█▍        | 3800/25596 [13:57<38:37,  9.41it/s]  "
     ]
    },
    {
     "name": "stdout",
     "output_type": "stream",
     "text": [
      "Processing 3801/25596\n"
     ]
    },
    {
     "name": "stderr",
     "output_type": "stream",
     "text": [
      " 15%|█▌        | 3901/25596 [14:33<1:34:30,  3.83it/s]"
     ]
    },
    {
     "name": "stdout",
     "output_type": "stream",
     "text": [
      "Processing 3901/25596\n"
     ]
    },
    {
     "name": "stderr",
     "output_type": "stream",
     "text": [
      " 16%|█▌        | 4001/25596 [14:44<32:06, 11.21it/s]  "
     ]
    },
    {
     "name": "stdout",
     "output_type": "stream",
     "text": [
      "Processing 4001/25596\n"
     ]
    },
    {
     "name": "stderr",
     "output_type": "stream",
     "text": [
      " 16%|█▌        | 4100/25596 [15:05<1:57:21,  3.05it/s]"
     ]
    },
    {
     "name": "stdout",
     "output_type": "stream",
     "text": [
      "Processing 4101/25596\n"
     ]
    },
    {
     "name": "stderr",
     "output_type": "stream",
     "text": [
      " 16%|█▋        | 4200/25596 [15:48<3:20:31,  1.78it/s]"
     ]
    },
    {
     "name": "stdout",
     "output_type": "stream",
     "text": [
      "Processing 4201/25596\n"
     ]
    },
    {
     "name": "stderr",
     "output_type": "stream",
     "text": [
      " 17%|█▋        | 4300/25596 [16:22<1:11:50,  4.94it/s]"
     ]
    },
    {
     "name": "stdout",
     "output_type": "stream",
     "text": [
      "Processing 4301/25596\n"
     ]
    },
    {
     "name": "stderr",
     "output_type": "stream",
     "text": [
      " 17%|█▋        | 4400/25596 [16:55<1:47:23,  3.29it/s]"
     ]
    },
    {
     "name": "stdout",
     "output_type": "stream",
     "text": [
      "Processing 4401/25596\n"
     ]
    },
    {
     "name": "stderr",
     "output_type": "stream",
     "text": [
      " 18%|█▊        | 4502/25596 [17:22<46:31,  7.56it/s]  "
     ]
    },
    {
     "name": "stdout",
     "output_type": "stream",
     "text": [
      "Processing 4501/25596\n"
     ]
    },
    {
     "name": "stderr",
     "output_type": "stream",
     "text": [
      " 18%|█▊        | 4599/25596 [17:40<1:18:20,  4.47it/s]"
     ]
    },
    {
     "name": "stdout",
     "output_type": "stream",
     "text": [
      "Processing 4601/25596\n"
     ]
    },
    {
     "name": "stderr",
     "output_type": "stream",
     "text": [
      " 18%|█▊        | 4701/25596 [18:03<1:16:00,  4.58it/s]"
     ]
    },
    {
     "name": "stdout",
     "output_type": "stream",
     "text": [
      "Processing 4701/25596\n"
     ]
    },
    {
     "name": "stderr",
     "output_type": "stream",
     "text": [
      " 19%|█▉        | 4802/25596 [18:24<54:50,  6.32it/s]  "
     ]
    },
    {
     "name": "stdout",
     "output_type": "stream",
     "text": [
      "Processing 4801/25596\n"
     ]
    },
    {
     "name": "stderr",
     "output_type": "stream",
     "text": [
      " 19%|█▉        | 4901/25596 [18:37<34:39,  9.95it/s]  "
     ]
    },
    {
     "name": "stdout",
     "output_type": "stream",
     "text": [
      "Processing 4901/25596\n"
     ]
    },
    {
     "name": "stderr",
     "output_type": "stream",
     "text": [
      " 20%|█▉        | 5001/25596 [18:48<56:44,  6.05it/s]  "
     ]
    },
    {
     "name": "stdout",
     "output_type": "stream",
     "text": [
      "Processing 5001/25596\n"
     ]
    },
    {
     "name": "stderr",
     "output_type": "stream",
     "text": [
      " 20%|█▉        | 5100/25596 [19:04<55:37,  6.14it/s]  "
     ]
    },
    {
     "name": "stdout",
     "output_type": "stream",
     "text": [
      "Processing 5101/25596\n"
     ]
    },
    {
     "name": "stderr",
     "output_type": "stream",
     "text": [
      " 20%|██        | 5199/25596 [19:22<46:26,  7.32it/s]  "
     ]
    },
    {
     "name": "stdout",
     "output_type": "stream",
     "text": [
      "Processing 5201/25596\n"
     ]
    },
    {
     "name": "stderr",
     "output_type": "stream",
     "text": [
      " 21%|██        | 5301/25596 [19:31<26:36, 12.72it/s]"
     ]
    },
    {
     "name": "stdout",
     "output_type": "stream",
     "text": [
      "Processing 5301/25596\n"
     ]
    },
    {
     "name": "stderr",
     "output_type": "stream",
     "text": [
      " 21%|██        | 5402/25596 [19:40<29:26, 11.43it/s]  "
     ]
    },
    {
     "name": "stdout",
     "output_type": "stream",
     "text": [
      "Processing 5401/25596\n"
     ]
    },
    {
     "name": "stderr",
     "output_type": "stream",
     "text": [
      " 21%|██▏       | 5499/25596 [19:49<35:45,  9.37it/s]"
     ]
    },
    {
     "name": "stdout",
     "output_type": "stream",
     "text": [
      "Processing 5501/25596\n"
     ]
    },
    {
     "name": "stderr",
     "output_type": "stream",
     "text": [
      " 22%|██▏       | 5602/25596 [20:07<31:46, 10.49it/s]  "
     ]
    },
    {
     "name": "stdout",
     "output_type": "stream",
     "text": [
      "Processing 5601/25596\n"
     ]
    },
    {
     "name": "stderr",
     "output_type": "stream",
     "text": [
      " 22%|██▏       | 5702/25596 [20:19<24:59, 13.26it/s]  "
     ]
    },
    {
     "name": "stdout",
     "output_type": "stream",
     "text": [
      "Processing 5701/25596\n"
     ]
    },
    {
     "name": "stderr",
     "output_type": "stream",
     "text": [
      " 23%|██▎       | 5803/25596 [20:30<34:22,  9.60it/s]  "
     ]
    },
    {
     "name": "stdout",
     "output_type": "stream",
     "text": [
      "Processing 5801/25596\n"
     ]
    },
    {
     "name": "stderr",
     "output_type": "stream",
     "text": [
      " 23%|██▎       | 5902/25596 [20:47<35:07,  9.34it/s]  "
     ]
    },
    {
     "name": "stdout",
     "output_type": "stream",
     "text": [
      "Processing 5901/25596\n"
     ]
    },
    {
     "name": "stderr",
     "output_type": "stream",
     "text": [
      " 23%|██▎       | 6000/25596 [21:13<1:53:16,  2.88it/s]"
     ]
    },
    {
     "name": "stdout",
     "output_type": "stream",
     "text": [
      "Processing 6001/25596\n"
     ]
    },
    {
     "name": "stderr",
     "output_type": "stream",
     "text": [
      " 24%|██▍       | 6103/25596 [21:29<21:57, 14.79it/s]  "
     ]
    },
    {
     "name": "stdout",
     "output_type": "stream",
     "text": [
      "Processing 6101/25596\n"
     ]
    },
    {
     "name": "stderr",
     "output_type": "stream",
     "text": [
      " 24%|██▍       | 6201/25596 [21:35<25:18, 12.77it/s]"
     ]
    },
    {
     "name": "stdout",
     "output_type": "stream",
     "text": [
      "Processing 6201/25596\n"
     ]
    },
    {
     "name": "stderr",
     "output_type": "stream",
     "text": [
      " 25%|██▍       | 6300/25596 [21:50<1:32:07,  3.49it/s]"
     ]
    },
    {
     "name": "stdout",
     "output_type": "stream",
     "text": [
      "Processing 6301/25596\n"
     ]
    },
    {
     "name": "stderr",
     "output_type": "stream",
     "text": [
      " 25%|██▌       | 6403/25596 [22:27<1:02:36,  5.11it/s]"
     ]
    },
    {
     "name": "stdout",
     "output_type": "stream",
     "text": [
      "Processing 6401/25596\n"
     ]
    },
    {
     "name": "stderr",
     "output_type": "stream",
     "text": [
      " 25%|██▌       | 6500/25596 [23:01<1:18:17,  4.07it/s]"
     ]
    },
    {
     "name": "stdout",
     "output_type": "stream",
     "text": [
      "Processing 6501/25596\n"
     ]
    },
    {
     "name": "stderr",
     "output_type": "stream",
     "text": [
      " 26%|██▌       | 6601/25596 [23:27<1:29:42,  3.53it/s]"
     ]
    },
    {
     "name": "stdout",
     "output_type": "stream",
     "text": [
      "Processing 6601/25596\n"
     ]
    },
    {
     "name": "stderr",
     "output_type": "stream",
     "text": [
      " 26%|██▌       | 6702/25596 [23:52<2:01:10,  2.60it/s]"
     ]
    },
    {
     "name": "stdout",
     "output_type": "stream",
     "text": [
      "Processing 6701/25596\n"
     ]
    },
    {
     "name": "stderr",
     "output_type": "stream",
     "text": [
      " 27%|██▋       | 6800/25596 [24:21<39:07,  8.01it/s]  "
     ]
    },
    {
     "name": "stdout",
     "output_type": "stream",
     "text": [
      "Processing 6801/25596\n"
     ]
    },
    {
     "name": "stderr",
     "output_type": "stream",
     "text": [
      " 27%|██▋       | 6899/25596 [24:41<1:28:57,  3.50it/s]"
     ]
    },
    {
     "name": "stdout",
     "output_type": "stream",
     "text": [
      "Processing 6901/25596\n"
     ]
    },
    {
     "name": "stderr",
     "output_type": "stream",
     "text": [
      " 27%|██▋       | 7002/25596 [25:08<24:29, 12.66it/s]  "
     ]
    },
    {
     "name": "stdout",
     "output_type": "stream",
     "text": [
      "Processing 7001/25596\n"
     ]
    },
    {
     "name": "stderr",
     "output_type": "stream",
     "text": [
      " 28%|██▊       | 7099/25596 [25:17<29:08, 10.58it/s]"
     ]
    },
    {
     "name": "stdout",
     "output_type": "stream",
     "text": [
      "Processing 7101/25596\n"
     ]
    },
    {
     "name": "stderr",
     "output_type": "stream",
     "text": [
      " 28%|██▊       | 7201/25596 [25:38<1:26:33,  3.54it/s]"
     ]
    },
    {
     "name": "stdout",
     "output_type": "stream",
     "text": [
      "Processing 7201/25596\n"
     ]
    },
    {
     "name": "stderr",
     "output_type": "stream",
     "text": [
      " 29%|██▊       | 7301/25596 [25:55<23:17, 13.09it/s]  "
     ]
    },
    {
     "name": "stdout",
     "output_type": "stream",
     "text": [
      "Processing 7301/25596\n"
     ]
    },
    {
     "name": "stderr",
     "output_type": "stream",
     "text": [
      " 29%|██▉       | 7400/25596 [26:04<53:42,  5.65it/s]"
     ]
    },
    {
     "name": "stdout",
     "output_type": "stream",
     "text": [
      "Processing 7401/25596\n"
     ]
    },
    {
     "name": "stderr",
     "output_type": "stream",
     "text": [
      " 29%|██▉       | 7500/25596 [26:25<1:01:17,  4.92it/s]"
     ]
    },
    {
     "name": "stdout",
     "output_type": "stream",
     "text": [
      "Processing 7501/25596\n"
     ]
    },
    {
     "name": "stderr",
     "output_type": "stream",
     "text": [
      " 30%|██▉       | 7603/25596 [26:37<21:48, 13.75it/s]  "
     ]
    },
    {
     "name": "stdout",
     "output_type": "stream",
     "text": [
      "Processing 7601/25596\n"
     ]
    },
    {
     "name": "stderr",
     "output_type": "stream",
     "text": [
      " 30%|███       | 7701/25596 [26:42<14:47, 20.16it/s]"
     ]
    },
    {
     "name": "stdout",
     "output_type": "stream",
     "text": [
      "Processing 7701/25596\n"
     ]
    },
    {
     "name": "stderr",
     "output_type": "stream",
     "text": [
      " 30%|███       | 7801/25596 [26:48<20:18, 14.61it/s]"
     ]
    },
    {
     "name": "stdout",
     "output_type": "stream",
     "text": [
      "Processing 7801/25596\n"
     ]
    },
    {
     "name": "stderr",
     "output_type": "stream",
     "text": [
      " 31%|███       | 7901/25596 [26:59<46:18,  6.37it/s]  "
     ]
    },
    {
     "name": "stdout",
     "output_type": "stream",
     "text": [
      "Processing 7901/25596\n"
     ]
    },
    {
     "name": "stderr",
     "output_type": "stream",
     "text": [
      " 31%|███▏      | 8000/25596 [27:19<40:22,  7.26it/s]  "
     ]
    },
    {
     "name": "stdout",
     "output_type": "stream",
     "text": [
      "Processing 8001/25596\n"
     ]
    },
    {
     "name": "stderr",
     "output_type": "stream",
     "text": [
      " 32%|███▏      | 8101/25596 [27:42<50:38,  5.76it/s]  "
     ]
    },
    {
     "name": "stdout",
     "output_type": "stream",
     "text": [
      "Processing 8101/25596\n"
     ]
    },
    {
     "name": "stderr",
     "output_type": "stream",
     "text": [
      " 32%|███▏      | 8201/25596 [28:03<1:20:06,  3.62it/s]"
     ]
    },
    {
     "name": "stdout",
     "output_type": "stream",
     "text": [
      "Processing 8201/25596\n"
     ]
    },
    {
     "name": "stderr",
     "output_type": "stream",
     "text": [
      " 32%|███▏      | 8300/25596 [28:27<2:11:50,  2.19it/s]"
     ]
    },
    {
     "name": "stdout",
     "output_type": "stream",
     "text": [
      "Processing 8301/25596\n"
     ]
    },
    {
     "name": "stderr",
     "output_type": "stream",
     "text": [
      " 33%|███▎      | 8401/25596 [28:47<32:43,  8.76it/s]  "
     ]
    },
    {
     "name": "stdout",
     "output_type": "stream",
     "text": [
      "Processing 8401/25596\n"
     ]
    },
    {
     "name": "stderr",
     "output_type": "stream",
     "text": [
      " 33%|███▎      | 8501/25596 [29:09<49:04,  5.81it/s]  "
     ]
    },
    {
     "name": "stdout",
     "output_type": "stream",
     "text": [
      "Processing 8501/25596\n"
     ]
    },
    {
     "name": "stderr",
     "output_type": "stream",
     "text": [
      " 34%|███▎      | 8601/25596 [29:30<59:39,  4.75it/s]  "
     ]
    },
    {
     "name": "stdout",
     "output_type": "stream",
     "text": [
      "Processing 8601/25596\n"
     ]
    },
    {
     "name": "stderr",
     "output_type": "stream",
     "text": [
      " 34%|███▍      | 8700/25596 [29:48<46:20,  6.08it/s]  "
     ]
    },
    {
     "name": "stdout",
     "output_type": "stream",
     "text": [
      "Processing 8701/25596\n"
     ]
    },
    {
     "name": "stderr",
     "output_type": "stream",
     "text": [
      " 34%|███▍      | 8800/25596 [30:14<1:02:56,  4.45it/s]"
     ]
    },
    {
     "name": "stdout",
     "output_type": "stream",
     "text": [
      "Processing 8801/25596\n"
     ]
    },
    {
     "name": "stderr",
     "output_type": "stream",
     "text": [
      " 35%|███▍      | 8903/25596 [30:46<52:52,  5.26it/s]  "
     ]
    },
    {
     "name": "stdout",
     "output_type": "stream",
     "text": [
      "Processing 8901/25596\n"
     ]
    },
    {
     "name": "stderr",
     "output_type": "stream",
     "text": [
      " 35%|███▌      | 9001/25596 [31:21<1:00:21,  4.58it/s]"
     ]
    },
    {
     "name": "stdout",
     "output_type": "stream",
     "text": [
      "Processing 9001/25596\n"
     ]
    },
    {
     "name": "stderr",
     "output_type": "stream",
     "text": [
      " 36%|███▌      | 9102/25596 [31:45<46:10,  5.95it/s]  "
     ]
    },
    {
     "name": "stdout",
     "output_type": "stream",
     "text": [
      "Processing 9101/25596\n"
     ]
    },
    {
     "name": "stderr",
     "output_type": "stream",
     "text": [
      " 36%|███▌      | 9201/25596 [32:08<34:53,  7.83it/s]  "
     ]
    },
    {
     "name": "stdout",
     "output_type": "stream",
     "text": [
      "Processing 9201/25596\n"
     ]
    },
    {
     "name": "stderr",
     "output_type": "stream",
     "text": [
      " 36%|███▋      | 9302/25596 [33:00<31:52,  8.52it/s]  "
     ]
    },
    {
     "name": "stdout",
     "output_type": "stream",
     "text": [
      "Processing 9301/25596\n"
     ]
    },
    {
     "name": "stderr",
     "output_type": "stream",
     "text": [
      " 37%|███▋      | 9402/25596 [33:36<30:59,  8.71it/s]  "
     ]
    },
    {
     "name": "stdout",
     "output_type": "stream",
     "text": [
      "Processing 9401/25596\n"
     ]
    },
    {
     "name": "stderr",
     "output_type": "stream",
     "text": [
      " 37%|███▋      | 9501/25596 [33:44<25:38, 10.46it/s]"
     ]
    },
    {
     "name": "stdout",
     "output_type": "stream",
     "text": [
      "Processing 9501/25596\n"
     ]
    },
    {
     "name": "stderr",
     "output_type": "stream",
     "text": [
      " 38%|███▊      | 9600/25596 [34:04<2:24:30,  1.84it/s]"
     ]
    },
    {
     "name": "stdout",
     "output_type": "stream",
     "text": [
      "Processing 9601/25596\n"
     ]
    },
    {
     "name": "stderr",
     "output_type": "stream",
     "text": [
      " 38%|███▊      | 9702/25596 [34:38<35:51,  7.39it/s]  "
     ]
    },
    {
     "name": "stdout",
     "output_type": "stream",
     "text": [
      "Processing 9701/25596\n"
     ]
    },
    {
     "name": "stderr",
     "output_type": "stream",
     "text": [
      " 38%|███▊      | 9799/25596 [34:59<58:29,  4.50it/s]  "
     ]
    },
    {
     "name": "stdout",
     "output_type": "stream",
     "text": [
      "Processing 9801/25596\n"
     ]
    },
    {
     "name": "stderr",
     "output_type": "stream",
     "text": [
      " 39%|███▊      | 9899/25596 [35:24<40:16,  6.50it/s]  "
     ]
    },
    {
     "name": "stdout",
     "output_type": "stream",
     "text": [
      "Processing 9901/25596\n"
     ]
    },
    {
     "name": "stderr",
     "output_type": "stream",
     "text": [
      " 39%|███▉      | 10000/25596 [35:43<54:34,  4.76it/s] "
     ]
    },
    {
     "name": "stdout",
     "output_type": "stream",
     "text": [
      "Processing 10001/25596\n"
     ]
    },
    {
     "name": "stderr",
     "output_type": "stream",
     "text": [
      " 39%|███▉      | 10101/25596 [36:03<27:34,  9.37it/s]  "
     ]
    },
    {
     "name": "stdout",
     "output_type": "stream",
     "text": [
      "Processing 10101/25596\n"
     ]
    },
    {
     "name": "stderr",
     "output_type": "stream",
     "text": [
      " 40%|███▉      | 10201/25596 [36:15<18:51, 13.60it/s]  "
     ]
    },
    {
     "name": "stdout",
     "output_type": "stream",
     "text": [
      "Processing 10201/25596\n"
     ]
    },
    {
     "name": "stderr",
     "output_type": "stream",
     "text": [
      " 40%|████      | 10303/25596 [36:24<13:56, 18.28it/s]"
     ]
    },
    {
     "name": "stdout",
     "output_type": "stream",
     "text": [
      "Processing 10301/25596\n"
     ]
    },
    {
     "name": "stderr",
     "output_type": "stream",
     "text": [
      " 41%|████      | 10402/25596 [36:30<13:58, 18.12it/s]"
     ]
    },
    {
     "name": "stdout",
     "output_type": "stream",
     "text": [
      "Processing 10401/25596\n"
     ]
    },
    {
     "name": "stderr",
     "output_type": "stream",
     "text": [
      " 41%|████      | 10502/25596 [36:38<16:26, 15.30it/s]"
     ]
    },
    {
     "name": "stdout",
     "output_type": "stream",
     "text": [
      "Processing 10501/25596\n"
     ]
    },
    {
     "name": "stderr",
     "output_type": "stream",
     "text": [
      " 41%|████▏     | 10601/25596 [36:57<47:56,  5.21it/s]  "
     ]
    },
    {
     "name": "stdout",
     "output_type": "stream",
     "text": [
      "Processing 10601/25596\n"
     ]
    },
    {
     "name": "stderr",
     "output_type": "stream",
     "text": [
      " 42%|████▏     | 10702/25596 [37:14<52:36,  4.72it/s]  "
     ]
    },
    {
     "name": "stdout",
     "output_type": "stream",
     "text": [
      "Processing 10701/25596\n"
     ]
    },
    {
     "name": "stderr",
     "output_type": "stream",
     "text": [
      " 42%|████▏     | 10800/25596 [37:38<35:18,  6.99it/s]  "
     ]
    },
    {
     "name": "stdout",
     "output_type": "stream",
     "text": [
      "Processing 10801/25596\n"
     ]
    },
    {
     "name": "stderr",
     "output_type": "stream",
     "text": [
      " 43%|████▎     | 10902/25596 [37:54<51:07,  4.79it/s]  "
     ]
    },
    {
     "name": "stdout",
     "output_type": "stream",
     "text": [
      "Processing 10901/25596\n"
     ]
    },
    {
     "name": "stderr",
     "output_type": "stream",
     "text": [
      " 43%|████▎     | 11002/25596 [38:23<1:34:42,  2.57it/s]"
     ]
    },
    {
     "name": "stdout",
     "output_type": "stream",
     "text": [
      "Processing 11001/25596\n"
     ]
    },
    {
     "name": "stderr",
     "output_type": "stream",
     "text": [
      " 43%|████▎     | 11103/25596 [38:36<14:21, 16.82it/s]  "
     ]
    },
    {
     "name": "stdout",
     "output_type": "stream",
     "text": [
      "Processing 11101/25596\n"
     ]
    },
    {
     "name": "stderr",
     "output_type": "stream",
     "text": [
      " 44%|████▍     | 11200/25596 [38:42<15:27, 15.53it/s]"
     ]
    },
    {
     "name": "stdout",
     "output_type": "stream",
     "text": [
      "Processing 11201/25596\n"
     ]
    },
    {
     "name": "stderr",
     "output_type": "stream",
     "text": [
      " 44%|████▍     | 11300/25596 [38:59<1:29:44,  2.65it/s]"
     ]
    },
    {
     "name": "stdout",
     "output_type": "stream",
     "text": [
      "Processing 11301/25596\n"
     ]
    },
    {
     "name": "stderr",
     "output_type": "stream",
     "text": [
      " 45%|████▍     | 11400/25596 [39:28<21:33, 10.97it/s]  "
     ]
    },
    {
     "name": "stdout",
     "output_type": "stream",
     "text": [
      "Processing 11401/25596\n"
     ]
    },
    {
     "name": "stderr",
     "output_type": "stream",
     "text": [
      " 45%|████▍     | 11499/25596 [39:43<27:58,  8.40it/s]  "
     ]
    },
    {
     "name": "stdout",
     "output_type": "stream",
     "text": [
      "Processing 11501/25596\n"
     ]
    },
    {
     "name": "stderr",
     "output_type": "stream",
     "text": [
      " 45%|████▌     | 11600/25596 [40:05<59:54,  3.89it/s]  "
     ]
    },
    {
     "name": "stdout",
     "output_type": "stream",
     "text": [
      "Processing 11601/25596\n"
     ]
    },
    {
     "name": "stderr",
     "output_type": "stream",
     "text": [
      " 46%|████▌     | 11700/25596 [40:31<32:39,  7.09it/s]  "
     ]
    },
    {
     "name": "stdout",
     "output_type": "stream",
     "text": [
      "Processing 11701/25596\n"
     ]
    },
    {
     "name": "stderr",
     "output_type": "stream",
     "text": [
      " 46%|████▌     | 11801/25596 [40:43<21:25, 10.73it/s]  "
     ]
    },
    {
     "name": "stdout",
     "output_type": "stream",
     "text": [
      "Processing 11801/25596\n"
     ]
    },
    {
     "name": "stderr",
     "output_type": "stream",
     "text": [
      " 47%|████▋     | 11903/25596 [40:52<13:35, 16.78it/s]"
     ]
    },
    {
     "name": "stdout",
     "output_type": "stream",
     "text": [
      "Processing 11901/25596\n"
     ]
    },
    {
     "name": "stderr",
     "output_type": "stream",
     "text": [
      " 47%|████▋     | 12000/25596 [40:59<15:23, 14.72it/s]"
     ]
    },
    {
     "name": "stdout",
     "output_type": "stream",
     "text": [
      "Processing 12001/25596\n"
     ]
    },
    {
     "name": "stderr",
     "output_type": "stream",
     "text": [
      " 47%|████▋     | 12099/25596 [41:21<41:19,  5.44it/s]  "
     ]
    },
    {
     "name": "stdout",
     "output_type": "stream",
     "text": [
      "Processing 12101/25596\n"
     ]
    },
    {
     "name": "stderr",
     "output_type": "stream",
     "text": [
      " 48%|████▊     | 12200/25596 [42:23<1:23:08,  2.69it/s]"
     ]
    },
    {
     "name": "stdout",
     "output_type": "stream",
     "text": [
      "Processing 12201/25596\n"
     ]
    },
    {
     "name": "stderr",
     "output_type": "stream",
     "text": [
      " 48%|████▊     | 12300/25596 [42:48<41:01,  5.40it/s]  "
     ]
    },
    {
     "name": "stdout",
     "output_type": "stream",
     "text": [
      "Processing 12301/25596\n"
     ]
    },
    {
     "name": "stderr",
     "output_type": "stream",
     "text": [
      " 48%|████▊     | 12399/25596 [43:08<42:55,  5.12it/s]  "
     ]
    },
    {
     "name": "stdout",
     "output_type": "stream",
     "text": [
      "Processing 12401/25596\n"
     ]
    },
    {
     "name": "stderr",
     "output_type": "stream",
     "text": [
      " 49%|████▉     | 12502/25596 [43:34<30:28,  7.16it/s]  "
     ]
    },
    {
     "name": "stdout",
     "output_type": "stream",
     "text": [
      "Processing 12501/25596\n"
     ]
    },
    {
     "name": "stderr",
     "output_type": "stream",
     "text": [
      " 49%|████▉     | 12600/25596 [43:49<1:04:40,  3.35it/s]"
     ]
    },
    {
     "name": "stdout",
     "output_type": "stream",
     "text": [
      "Processing 12601/25596\n"
     ]
    },
    {
     "name": "stderr",
     "output_type": "stream",
     "text": [
      " 50%|████▉     | 12701/25596 [44:09<50:41,  4.24it/s]  "
     ]
    },
    {
     "name": "stdout",
     "output_type": "stream",
     "text": [
      "Processing 12701/25596\n"
     ]
    },
    {
     "name": "stderr",
     "output_type": "stream",
     "text": [
      " 50%|█████     | 12801/25596 [44:28<20:45, 10.28it/s]  "
     ]
    },
    {
     "name": "stdout",
     "output_type": "stream",
     "text": [
      "Processing 12801/25596\n"
     ]
    },
    {
     "name": "stderr",
     "output_type": "stream",
     "text": [
      " 50%|█████     | 12902/25596 [44:50<22:58,  9.21it/s]  "
     ]
    },
    {
     "name": "stdout",
     "output_type": "stream",
     "text": [
      "Processing 12901/25596\n"
     ]
    },
    {
     "name": "stderr",
     "output_type": "stream",
     "text": [
      " 51%|█████     | 13003/25596 [44:58<13:02, 16.10it/s]"
     ]
    },
    {
     "name": "stdout",
     "output_type": "stream",
     "text": [
      "Processing 13001/25596\n"
     ]
    },
    {
     "name": "stderr",
     "output_type": "stream",
     "text": [
      " 51%|█████     | 13100/25596 [45:05<14:14, 14.63it/s]"
     ]
    },
    {
     "name": "stdout",
     "output_type": "stream",
     "text": [
      "Processing 13101/25596\n"
     ]
    },
    {
     "name": "stderr",
     "output_type": "stream",
     "text": [
      " 52%|█████▏    | 13202/25596 [45:21<34:05,  6.06it/s]  "
     ]
    },
    {
     "name": "stdout",
     "output_type": "stream",
     "text": [
      "Processing 13201/25596\n"
     ]
    },
    {
     "name": "stderr",
     "output_type": "stream",
     "text": [
      " 52%|█████▏    | 13302/25596 [46:03<48:20,  4.24it/s]  "
     ]
    },
    {
     "name": "stdout",
     "output_type": "stream",
     "text": [
      "Processing 13301/25596\n"
     ]
    },
    {
     "name": "stderr",
     "output_type": "stream",
     "text": [
      " 52%|█████▏    | 13402/25596 [46:18<11:53, 17.08it/s]  "
     ]
    },
    {
     "name": "stdout",
     "output_type": "stream",
     "text": [
      "Processing 13401/25596\n"
     ]
    },
    {
     "name": "stderr",
     "output_type": "stream",
     "text": [
      " 53%|█████▎    | 13502/25596 [46:23<10:39, 18.90it/s]"
     ]
    },
    {
     "name": "stdout",
     "output_type": "stream",
     "text": [
      "Processing 13501/25596\n"
     ]
    },
    {
     "name": "stderr",
     "output_type": "stream",
     "text": [
      " 53%|█████▎    | 13603/25596 [46:29<11:35, 17.25it/s]"
     ]
    },
    {
     "name": "stdout",
     "output_type": "stream",
     "text": [
      "Processing 13601/25596\n"
     ]
    },
    {
     "name": "stderr",
     "output_type": "stream",
     "text": [
      " 54%|█████▎    | 13700/25596 [46:41<28:49,  6.88it/s]"
     ]
    },
    {
     "name": "stdout",
     "output_type": "stream",
     "text": [
      "Processing 13701/25596\n"
     ]
    },
    {
     "name": "stderr",
     "output_type": "stream",
     "text": [
      " 54%|█████▍    | 13801/25596 [47:02<38:00,  5.17it/s]  "
     ]
    },
    {
     "name": "stdout",
     "output_type": "stream",
     "text": [
      "Processing 13801/25596\n"
     ]
    },
    {
     "name": "stderr",
     "output_type": "stream",
     "text": [
      " 54%|█████▍    | 13900/25596 [47:19<2:24:22,  1.35it/s]"
     ]
    },
    {
     "name": "stdout",
     "output_type": "stream",
     "text": [
      "Processing 13901/25596\n"
     ]
    },
    {
     "name": "stderr",
     "output_type": "stream",
     "text": [
      " 55%|█████▍    | 14000/25596 [48:08<1:19:50,  2.42it/s]"
     ]
    },
    {
     "name": "stdout",
     "output_type": "stream",
     "text": [
      "Processing 14001/25596\n"
     ]
    },
    {
     "name": "stderr",
     "output_type": "stream",
     "text": [
      " 55%|█████▌    | 14102/25596 [48:36<24:11,  7.92it/s]  "
     ]
    },
    {
     "name": "stdout",
     "output_type": "stream",
     "text": [
      "Processing 14101/25596\n"
     ]
    },
    {
     "name": "stderr",
     "output_type": "stream",
     "text": [
      " 55%|█████▌    | 14202/25596 [48:53<32:57,  5.76it/s]"
     ]
    },
    {
     "name": "stdout",
     "output_type": "stream",
     "text": [
      "Processing 14201/25596\n"
     ]
    },
    {
     "name": "stderr",
     "output_type": "stream",
     "text": [
      " 56%|█████▌    | 14300/25596 [49:27<18:45, 10.04it/s]  "
     ]
    },
    {
     "name": "stdout",
     "output_type": "stream",
     "text": [
      "Processing 14301/25596\n"
     ]
    },
    {
     "name": "stderr",
     "output_type": "stream",
     "text": [
      " 56%|█████▋    | 14399/25596 [49:51<2:52:32,  1.08it/s]"
     ]
    },
    {
     "name": "stdout",
     "output_type": "stream",
     "text": [
      "Processing 14401/25596\n"
     ]
    },
    {
     "name": "stderr",
     "output_type": "stream",
     "text": [
      " 57%|█████▋    | 14500/25596 [50:08<18:13, 10.15it/s]  "
     ]
    },
    {
     "name": "stdout",
     "output_type": "stream",
     "text": [
      "Processing 14501/25596\n"
     ]
    },
    {
     "name": "stderr",
     "output_type": "stream",
     "text": [
      " 57%|█████▋    | 14601/25596 [50:23<45:31,  4.02it/s]  "
     ]
    },
    {
     "name": "stdout",
     "output_type": "stream",
     "text": [
      "Processing 14601/25596\n"
     ]
    },
    {
     "name": "stderr",
     "output_type": "stream",
     "text": [
      " 57%|█████▋    | 14699/25596 [50:50<42:10,  4.31it/s]  "
     ]
    },
    {
     "name": "stdout",
     "output_type": "stream",
     "text": [
      "Processing 14701/25596\n"
     ]
    },
    {
     "name": "stderr",
     "output_type": "stream",
     "text": [
      " 58%|█████▊    | 14801/25596 [50:59<09:27, 19.01it/s]"
     ]
    },
    {
     "name": "stdout",
     "output_type": "stream",
     "text": [
      "Processing 14801/25596\n"
     ]
    },
    {
     "name": "stderr",
     "output_type": "stream",
     "text": [
      " 58%|█████▊    | 14902/25596 [51:04<10:39, 16.72it/s]"
     ]
    },
    {
     "name": "stdout",
     "output_type": "stream",
     "text": [
      "Processing 14901/25596\n"
     ]
    },
    {
     "name": "stderr",
     "output_type": "stream",
     "text": [
      " 59%|█████▊    | 15002/25596 [51:10<12:26, 14.19it/s]"
     ]
    },
    {
     "name": "stdout",
     "output_type": "stream",
     "text": [
      "Processing 15001/25596\n"
     ]
    },
    {
     "name": "stderr",
     "output_type": "stream",
     "text": [
      " 59%|█████▉    | 15100/25596 [51:24<40:51,  4.28it/s]"
     ]
    },
    {
     "name": "stdout",
     "output_type": "stream",
     "text": [
      "Processing 15101/25596\n"
     ]
    },
    {
     "name": "stderr",
     "output_type": "stream",
     "text": [
      " 59%|█████▉    | 15199/25596 [51:49<27:50,  6.22it/s]  "
     ]
    },
    {
     "name": "stdout",
     "output_type": "stream",
     "text": [
      "Processing 15201/25596\n"
     ]
    },
    {
     "name": "stderr",
     "output_type": "stream",
     "text": [
      " 60%|█████▉    | 15301/25596 [52:08<22:46,  7.53it/s]  "
     ]
    },
    {
     "name": "stdout",
     "output_type": "stream",
     "text": [
      "Processing 15301/25596\n"
     ]
    },
    {
     "name": "stderr",
     "output_type": "stream",
     "text": [
      " 60%|██████    | 15399/25596 [52:24<57:54,  2.93it/s]"
     ]
    },
    {
     "name": "stdout",
     "output_type": "stream",
     "text": [
      "Processing 15401/25596\n"
     ]
    },
    {
     "name": "stderr",
     "output_type": "stream",
     "text": [
      " 61%|██████    | 15500/25596 [52:59<1:08:20,  2.46it/s]"
     ]
    },
    {
     "name": "stdout",
     "output_type": "stream",
     "text": [
      "Processing 15501/25596\n"
     ]
    },
    {
     "name": "stderr",
     "output_type": "stream",
     "text": [
      " 61%|██████    | 15602/25596 [53:16<10:41, 15.57it/s]  "
     ]
    },
    {
     "name": "stdout",
     "output_type": "stream",
     "text": [
      "Processing 15601/25596\n"
     ]
    },
    {
     "name": "stderr",
     "output_type": "stream",
     "text": [
      " 61%|██████▏   | 15701/25596 [53:24<17:31,  9.41it/s]"
     ]
    },
    {
     "name": "stdout",
     "output_type": "stream",
     "text": [
      "Processing 15701/25596\n"
     ]
    },
    {
     "name": "stderr",
     "output_type": "stream",
     "text": [
      " 62%|██████▏   | 15802/25596 [53:39<1:01:29,  2.65it/s]"
     ]
    },
    {
     "name": "stdout",
     "output_type": "stream",
     "text": [
      "Processing 15801/25596\n"
     ]
    },
    {
     "name": "stderr",
     "output_type": "stream",
     "text": [
      " 62%|██████▏   | 15901/25596 [53:58<13:12, 12.23it/s]  "
     ]
    },
    {
     "name": "stdout",
     "output_type": "stream",
     "text": [
      "Processing 15901/25596\n"
     ]
    },
    {
     "name": "stderr",
     "output_type": "stream",
     "text": [
      " 63%|██████▎   | 16001/25596 [54:05<09:31, 16.80it/s]"
     ]
    },
    {
     "name": "stdout",
     "output_type": "stream",
     "text": [
      "Processing 16001/25596\n"
     ]
    },
    {
     "name": "stderr",
     "output_type": "stream",
     "text": [
      " 63%|██████▎   | 16102/25596 [54:14<19:59,  7.92it/s]"
     ]
    },
    {
     "name": "stdout",
     "output_type": "stream",
     "text": [
      "Processing 16101/25596\n"
     ]
    },
    {
     "name": "stderr",
     "output_type": "stream",
     "text": [
      " 63%|██████▎   | 16200/25596 [54:44<1:37:06,  1.61it/s]"
     ]
    },
    {
     "name": "stdout",
     "output_type": "stream",
     "text": [
      "Processing 16201/25596\n"
     ]
    },
    {
     "name": "stderr",
     "output_type": "stream",
     "text": [
      " 64%|██████▎   | 16302/25596 [55:13<17:38,  8.78it/s]  "
     ]
    },
    {
     "name": "stdout",
     "output_type": "stream",
     "text": [
      "Processing 16301/25596\n"
     ]
    },
    {
     "name": "stderr",
     "output_type": "stream",
     "text": [
      " 64%|██████▍   | 16402/25596 [55:29<17:37,  8.69it/s]"
     ]
    },
    {
     "name": "stdout",
     "output_type": "stream",
     "text": [
      "Processing 16401/25596\n"
     ]
    },
    {
     "name": "stderr",
     "output_type": "stream",
     "text": [
      " 64%|██████▍   | 16500/25596 [55:36<14:54, 10.17it/s]"
     ]
    },
    {
     "name": "stdout",
     "output_type": "stream",
     "text": [
      "Processing 16501/25596\n"
     ]
    },
    {
     "name": "stderr",
     "output_type": "stream",
     "text": [
      " 65%|██████▍   | 16600/25596 [55:53<29:08,  5.15it/s]"
     ]
    },
    {
     "name": "stdout",
     "output_type": "stream",
     "text": [
      "Processing 16601/25596\n"
     ]
    },
    {
     "name": "stderr",
     "output_type": "stream",
     "text": [
      " 65%|██████▌   | 16702/25596 [56:08<12:00, 12.34it/s]"
     ]
    },
    {
     "name": "stdout",
     "output_type": "stream",
     "text": [
      "Processing 16701/25596\n"
     ]
    },
    {
     "name": "stderr",
     "output_type": "stream",
     "text": [
      " 66%|██████▌   | 16804/25596 [56:15<07:28, 19.62it/s]"
     ]
    },
    {
     "name": "stdout",
     "output_type": "stream",
     "text": [
      "Processing 16801/25596\n"
     ]
    },
    {
     "name": "stderr",
     "output_type": "stream",
     "text": [
      " 66%|██████▌   | 16903/25596 [56:21<09:14, 15.67it/s]"
     ]
    },
    {
     "name": "stdout",
     "output_type": "stream",
     "text": [
      "Processing 16901/25596\n"
     ]
    },
    {
     "name": "stderr",
     "output_type": "stream",
     "text": [
      " 66%|██████▋   | 17000/25596 [56:40<29:19,  4.89it/s]  "
     ]
    },
    {
     "name": "stdout",
     "output_type": "stream",
     "text": [
      "Processing 17001/25596\n"
     ]
    },
    {
     "name": "stderr",
     "output_type": "stream",
     "text": [
      " 67%|██████▋   | 17101/25596 [57:24<41:44,  3.39it/s]  "
     ]
    },
    {
     "name": "stdout",
     "output_type": "stream",
     "text": [
      "Processing 17101/25596\n"
     ]
    },
    {
     "name": "stderr",
     "output_type": "stream",
     "text": [
      " 67%|██████▋   | 17202/25596 [58:00<17:37,  7.94it/s]  "
     ]
    },
    {
     "name": "stdout",
     "output_type": "stream",
     "text": [
      "Processing 17201/25596\n"
     ]
    },
    {
     "name": "stderr",
     "output_type": "stream",
     "text": [
      " 68%|██████▊   | 17301/25596 [58:21<13:12, 10.47it/s]  "
     ]
    },
    {
     "name": "stdout",
     "output_type": "stream",
     "text": [
      "Processing 17301/25596\n"
     ]
    },
    {
     "name": "stderr",
     "output_type": "stream",
     "text": [
      " 68%|██████▊   | 17401/25596 [58:30<08:29, 16.10it/s]"
     ]
    },
    {
     "name": "stdout",
     "output_type": "stream",
     "text": [
      "Processing 17401/25596\n"
     ]
    },
    {
     "name": "stderr",
     "output_type": "stream",
     "text": [
      " 68%|██████▊   | 17499/25596 [58:50<14:12,  9.49it/s]  "
     ]
    },
    {
     "name": "stdout",
     "output_type": "stream",
     "text": [
      "Processing 17501/25596\n"
     ]
    },
    {
     "name": "stderr",
     "output_type": "stream",
     "text": [
      " 69%|██████▉   | 17602/25596 [59:19<30:19,  4.39it/s]  "
     ]
    },
    {
     "name": "stdout",
     "output_type": "stream",
     "text": [
      "Processing 17601/25596\n"
     ]
    },
    {
     "name": "stderr",
     "output_type": "stream",
     "text": [
      " 69%|██████▉   | 17701/25596 [59:43<24:56,  5.28it/s]  "
     ]
    },
    {
     "name": "stdout",
     "output_type": "stream",
     "text": [
      "Processing 17701/25596\n"
     ]
    },
    {
     "name": "stderr",
     "output_type": "stream",
     "text": [
      " 70%|██████▉   | 17800/25596 [1:00:08<57:27,  2.26it/s]"
     ]
    },
    {
     "name": "stdout",
     "output_type": "stream",
     "text": [
      "Processing 17801/25596\n"
     ]
    },
    {
     "name": "stderr",
     "output_type": "stream",
     "text": [
      " 70%|██████▉   | 17900/25596 [1:00:38<22:46,  5.63it/s]  "
     ]
    },
    {
     "name": "stdout",
     "output_type": "stream",
     "text": [
      "Processing 17901/25596\n"
     ]
    },
    {
     "name": "stderr",
     "output_type": "stream",
     "text": [
      " 70%|███████   | 18000/25596 [1:01:09<23:58,  5.28it/s]  "
     ]
    },
    {
     "name": "stdout",
     "output_type": "stream",
     "text": [
      "Processing 18001/25596\n"
     ]
    },
    {
     "name": "stderr",
     "output_type": "stream",
     "text": [
      " 71%|███████   | 18101/25596 [1:01:40<30:11,  4.14it/s]  "
     ]
    },
    {
     "name": "stdout",
     "output_type": "stream",
     "text": [
      "Processing 18101/25596\n"
     ]
    },
    {
     "name": "stderr",
     "output_type": "stream",
     "text": [
      " 71%|███████   | 18199/25596 [1:02:05<33:42,  3.66it/s]  "
     ]
    },
    {
     "name": "stdout",
     "output_type": "stream",
     "text": [
      "Processing 18201/25596\n"
     ]
    },
    {
     "name": "stderr",
     "output_type": "stream",
     "text": [
      " 71%|███████▏  | 18300/25596 [1:02:29<28:12,  4.31it/s]  "
     ]
    },
    {
     "name": "stdout",
     "output_type": "stream",
     "text": [
      "Processing 18301/25596\n"
     ]
    },
    {
     "name": "stderr",
     "output_type": "stream",
     "text": [
      " 72%|███████▏  | 18401/25596 [1:02:56<14:47,  8.11it/s]  "
     ]
    },
    {
     "name": "stdout",
     "output_type": "stream",
     "text": [
      "Processing 18401/25596\n"
     ]
    },
    {
     "name": "stderr",
     "output_type": "stream",
     "text": [
      " 72%|███████▏  | 18500/25596 [1:03:17<25:41,  4.60it/s]"
     ]
    },
    {
     "name": "stdout",
     "output_type": "stream",
     "text": [
      "Processing 18501/25596\n"
     ]
    },
    {
     "name": "stderr",
     "output_type": "stream",
     "text": [
      " 73%|███████▎  | 18602/25596 [1:03:40<21:20,  5.46it/s]"
     ]
    },
    {
     "name": "stdout",
     "output_type": "stream",
     "text": [
      "Processing 18601/25596\n"
     ]
    },
    {
     "name": "stderr",
     "output_type": "stream",
     "text": [
      " 73%|███████▎  | 18700/25596 [1:03:59<18:03,  6.37it/s]"
     ]
    },
    {
     "name": "stdout",
     "output_type": "stream",
     "text": [
      "Processing 18701/25596\n"
     ]
    },
    {
     "name": "stderr",
     "output_type": "stream",
     "text": [
      " 73%|███████▎  | 18802/25596 [1:04:26<15:42,  7.21it/s]"
     ]
    },
    {
     "name": "stdout",
     "output_type": "stream",
     "text": [
      "Processing 18801/25596\n"
     ]
    },
    {
     "name": "stderr",
     "output_type": "stream",
     "text": [
      " 74%|███████▍  | 18902/25596 [1:04:55<35:27,  3.15it/s]  "
     ]
    },
    {
     "name": "stdout",
     "output_type": "stream",
     "text": [
      "Processing 18901/25596\n"
     ]
    },
    {
     "name": "stderr",
     "output_type": "stream",
     "text": [
      " 74%|███████▍  | 19001/25596 [1:05:26<28:06,  3.91it/s]"
     ]
    },
    {
     "name": "stdout",
     "output_type": "stream",
     "text": [
      "Processing 19001/25596\n"
     ]
    },
    {
     "name": "stderr",
     "output_type": "stream",
     "text": [
      " 75%|███████▍  | 19101/25596 [1:06:09<32:53,  3.29it/s]  "
     ]
    },
    {
     "name": "stdout",
     "output_type": "stream",
     "text": [
      "Processing 19101/25596\n"
     ]
    },
    {
     "name": "stderr",
     "output_type": "stream",
     "text": [
      " 75%|███████▌  | 19200/25596 [1:06:56<20:17,  5.25it/s]  "
     ]
    },
    {
     "name": "stdout",
     "output_type": "stream",
     "text": [
      "Processing 19201/25596\n"
     ]
    },
    {
     "name": "stderr",
     "output_type": "stream",
     "text": [
      " 75%|███████▌  | 19300/25596 [1:07:14<12:15,  8.56it/s]"
     ]
    },
    {
     "name": "stdout",
     "output_type": "stream",
     "text": [
      "Processing 19301/25596\n"
     ]
    },
    {
     "name": "stderr",
     "output_type": "stream",
     "text": [
      " 76%|███████▌  | 19402/25596 [1:07:23<08:21, 12.35it/s]"
     ]
    },
    {
     "name": "stdout",
     "output_type": "stream",
     "text": [
      "Processing 19401/25596\n"
     ]
    },
    {
     "name": "stderr",
     "output_type": "stream",
     "text": [
      " 76%|███████▌  | 19501/25596 [1:07:30<07:28, 13.59it/s]"
     ]
    },
    {
     "name": "stdout",
     "output_type": "stream",
     "text": [
      "Processing 19501/25596\n"
     ]
    },
    {
     "name": "stderr",
     "output_type": "stream",
     "text": [
      " 77%|███████▋  | 19600/25596 [1:07:43<14:08,  7.07it/s]"
     ]
    },
    {
     "name": "stdout",
     "output_type": "stream",
     "text": [
      "Processing 19601/25596\n"
     ]
    },
    {
     "name": "stderr",
     "output_type": "stream",
     "text": [
      " 77%|███████▋  | 19701/25596 [1:08:05<12:46,  7.69it/s]"
     ]
    },
    {
     "name": "stdout",
     "output_type": "stream",
     "text": [
      "Processing 19701/25596\n"
     ]
    },
    {
     "name": "stderr",
     "output_type": "stream",
     "text": [
      " 77%|███████▋  | 19800/25596 [1:08:31<12:41,  7.61it/s]"
     ]
    },
    {
     "name": "stdout",
     "output_type": "stream",
     "text": [
      "Processing 19801/25596\n"
     ]
    },
    {
     "name": "stderr",
     "output_type": "stream",
     "text": [
      " 78%|███████▊  | 19899/25596 [1:09:01<27:04,  3.51it/s]"
     ]
    },
    {
     "name": "stdout",
     "output_type": "stream",
     "text": [
      "Processing 19901/25596\n"
     ]
    },
    {
     "name": "stderr",
     "output_type": "stream",
     "text": [
      " 78%|███████▊  | 20000/25596 [1:09:36<22:56,  4.07it/s]  "
     ]
    },
    {
     "name": "stdout",
     "output_type": "stream",
     "text": [
      "Processing 20001/25596\n"
     ]
    },
    {
     "name": "stderr",
     "output_type": "stream",
     "text": [
      " 79%|███████▊  | 20100/25596 [1:10:03<16:01,  5.72it/s]"
     ]
    },
    {
     "name": "stdout",
     "output_type": "stream",
     "text": [
      "Processing 20101/25596\n"
     ]
    },
    {
     "name": "stderr",
     "output_type": "stream",
     "text": [
      " 79%|███████▉  | 20202/25596 [1:10:23<09:49,  9.15it/s]"
     ]
    },
    {
     "name": "stdout",
     "output_type": "stream",
     "text": [
      "Processing 20201/25596\n"
     ]
    },
    {
     "name": "stderr",
     "output_type": "stream",
     "text": [
      " 79%|███████▉  | 20302/25596 [1:10:37<08:28, 10.42it/s]"
     ]
    },
    {
     "name": "stdout",
     "output_type": "stream",
     "text": [
      "Processing 20301/25596\n"
     ]
    },
    {
     "name": "stderr",
     "output_type": "stream",
     "text": [
      " 80%|███████▉  | 20400/25596 [1:10:54<11:32,  7.50it/s]"
     ]
    },
    {
     "name": "stdout",
     "output_type": "stream",
     "text": [
      "Processing 20401/25596\n"
     ]
    },
    {
     "name": "stderr",
     "output_type": "stream",
     "text": [
      " 80%|████████  | 20500/25596 [1:11:25<14:55,  5.69it/s]  "
     ]
    },
    {
     "name": "stdout",
     "output_type": "stream",
     "text": [
      "Processing 20501/25596\n"
     ]
    },
    {
     "name": "stderr",
     "output_type": "stream",
     "text": [
      " 80%|████████  | 20599/25596 [1:11:40<10:40,  7.80it/s]"
     ]
    },
    {
     "name": "stdout",
     "output_type": "stream",
     "text": [
      "Processing 20601/25596\n"
     ]
    },
    {
     "name": "stderr",
     "output_type": "stream",
     "text": [
      " 81%|████████  | 20701/25596 [1:11:54<11:40,  6.99it/s]"
     ]
    },
    {
     "name": "stdout",
     "output_type": "stream",
     "text": [
      "Processing 20701/25596\n"
     ]
    },
    {
     "name": "stderr",
     "output_type": "stream",
     "text": [
      " 81%|████████▏ | 20803/25596 [1:12:02<05:24, 14.76it/s]"
     ]
    },
    {
     "name": "stdout",
     "output_type": "stream",
     "text": [
      "Processing 20801/25596\n"
     ]
    },
    {
     "name": "stderr",
     "output_type": "stream",
     "text": [
      " 82%|████████▏ | 20903/25596 [1:12:10<05:21, 14.59it/s]"
     ]
    },
    {
     "name": "stdout",
     "output_type": "stream",
     "text": [
      "Processing 20901/25596\n"
     ]
    },
    {
     "name": "stderr",
     "output_type": "stream",
     "text": [
      " 82%|████████▏ | 20999/25596 [1:12:21<08:15,  9.28it/s]"
     ]
    },
    {
     "name": "stdout",
     "output_type": "stream",
     "text": [
      "Processing 21001/25596\n"
     ]
    },
    {
     "name": "stderr",
     "output_type": "stream",
     "text": [
      " 82%|████████▏ | 21102/25596 [1:12:39<10:06,  7.41it/s]"
     ]
    },
    {
     "name": "stdout",
     "output_type": "stream",
     "text": [
      "Processing 21101/25596\n"
     ]
    },
    {
     "name": "stderr",
     "output_type": "stream",
     "text": [
      " 83%|████████▎ | 21200/25596 [1:12:57<17:53,  4.10it/s]"
     ]
    },
    {
     "name": "stdout",
     "output_type": "stream",
     "text": [
      "Processing 21201/25596\n"
     ]
    },
    {
     "name": "stderr",
     "output_type": "stream",
     "text": [
      " 83%|████████▎ | 21300/25596 [1:13:19<18:43,  3.82it/s]"
     ]
    },
    {
     "name": "stdout",
     "output_type": "stream",
     "text": [
      "Processing 21301/25596\n"
     ]
    },
    {
     "name": "stderr",
     "output_type": "stream",
     "text": [
      " 84%|████████▎ | 21401/25596 [1:13:43<20:57,  3.34it/s]"
     ]
    },
    {
     "name": "stdout",
     "output_type": "stream",
     "text": [
      "Processing 21401/25596\n"
     ]
    },
    {
     "name": "stderr",
     "output_type": "stream",
     "text": [
      " 84%|████████▍ | 21501/25596 [1:13:59<09:10,  7.44it/s]"
     ]
    },
    {
     "name": "stdout",
     "output_type": "stream",
     "text": [
      "Processing 21501/25596\n"
     ]
    },
    {
     "name": "stderr",
     "output_type": "stream",
     "text": [
      " 84%|████████▍ | 21601/25596 [1:14:12<09:32,  6.98it/s]"
     ]
    },
    {
     "name": "stdout",
     "output_type": "stream",
     "text": [
      "Processing 21601/25596\n"
     ]
    },
    {
     "name": "stderr",
     "output_type": "stream",
     "text": [
      " 85%|████████▍ | 21701/25596 [1:14:25<07:13,  8.99it/s]"
     ]
    },
    {
     "name": "stdout",
     "output_type": "stream",
     "text": [
      "Processing 21701/25596\n"
     ]
    },
    {
     "name": "stderr",
     "output_type": "stream",
     "text": [
      " 85%|████████▌ | 21801/25596 [1:14:48<10:07,  6.25it/s]"
     ]
    },
    {
     "name": "stdout",
     "output_type": "stream",
     "text": [
      "Processing 21801/25596\n"
     ]
    },
    {
     "name": "stderr",
     "output_type": "stream",
     "text": [
      " 86%|████████▌ | 21900/25596 [1:15:15<23:20,  2.64it/s]"
     ]
    },
    {
     "name": "stdout",
     "output_type": "stream",
     "text": [
      "Processing 21901/25596\n"
     ]
    },
    {
     "name": "stderr",
     "output_type": "stream",
     "text": [
      " 86%|████████▌ | 21999/25596 [1:15:36<09:51,  6.08it/s]"
     ]
    },
    {
     "name": "stdout",
     "output_type": "stream",
     "text": [
      "Processing 22001/25596\n"
     ]
    },
    {
     "name": "stderr",
     "output_type": "stream",
     "text": [
      " 86%|████████▋ | 22101/25596 [1:15:59<19:20,  3.01it/s]"
     ]
    },
    {
     "name": "stdout",
     "output_type": "stream",
     "text": [
      "Processing 22101/25596\n"
     ]
    },
    {
     "name": "stderr",
     "output_type": "stream",
     "text": [
      " 87%|████████▋ | 22201/25596 [1:16:35<08:36,  6.57it/s]"
     ]
    },
    {
     "name": "stdout",
     "output_type": "stream",
     "text": [
      "Processing 22201/25596\n"
     ]
    },
    {
     "name": "stderr",
     "output_type": "stream",
     "text": [
      " 87%|████████▋ | 22300/25596 [1:17:03<18:53,  2.91it/s]"
     ]
    },
    {
     "name": "stdout",
     "output_type": "stream",
     "text": [
      "Processing 22301/25596\n"
     ]
    },
    {
     "name": "stderr",
     "output_type": "stream",
     "text": [
      " 88%|████████▊ | 22399/25596 [1:17:34<11:02,  4.83it/s]"
     ]
    },
    {
     "name": "stdout",
     "output_type": "stream",
     "text": [
      "Processing 22401/25596\n"
     ]
    },
    {
     "name": "stderr",
     "output_type": "stream",
     "text": [
      " 88%|████████▊ | 22500/25596 [1:17:52<11:58,  4.31it/s]"
     ]
    },
    {
     "name": "stdout",
     "output_type": "stream",
     "text": [
      "Processing 22501/25596\n"
     ]
    },
    {
     "name": "stderr",
     "output_type": "stream",
     "text": [
      " 88%|████████▊ | 22600/25596 [1:18:11<11:27,  4.36it/s]"
     ]
    },
    {
     "name": "stdout",
     "output_type": "stream",
     "text": [
      "Processing 22601/25596\n"
     ]
    },
    {
     "name": "stderr",
     "output_type": "stream",
     "text": [
      " 89%|████████▊ | 22700/25596 [1:18:41<16:35,  2.91it/s]"
     ]
    },
    {
     "name": "stdout",
     "output_type": "stream",
     "text": [
      "Processing 22701/25596\n"
     ]
    },
    {
     "name": "stderr",
     "output_type": "stream",
     "text": [
      " 89%|████████▉ | 22800/25596 [1:18:59<07:25,  6.28it/s]"
     ]
    },
    {
     "name": "stdout",
     "output_type": "stream",
     "text": [
      "Processing 22801/25596\n"
     ]
    },
    {
     "name": "stderr",
     "output_type": "stream",
     "text": [
      " 89%|████████▉ | 22900/25596 [1:19:18<04:43,  9.49it/s]"
     ]
    },
    {
     "name": "stdout",
     "output_type": "stream",
     "text": [
      "Processing 22901/25596\n"
     ]
    },
    {
     "name": "stderr",
     "output_type": "stream",
     "text": [
      " 90%|████████▉ | 23001/25596 [1:19:33<06:31,  6.62it/s]"
     ]
    },
    {
     "name": "stdout",
     "output_type": "stream",
     "text": [
      "Processing 23001/25596\n"
     ]
    },
    {
     "name": "stderr",
     "output_type": "stream",
     "text": [
      " 90%|█████████ | 23101/25596 [1:19:50<06:57,  5.97it/s]"
     ]
    },
    {
     "name": "stdout",
     "output_type": "stream",
     "text": [
      "Processing 23101/25596\n"
     ]
    },
    {
     "name": "stderr",
     "output_type": "stream",
     "text": [
      " 91%|█████████ | 23201/25596 [1:20:06<05:08,  7.77it/s]"
     ]
    },
    {
     "name": "stdout",
     "output_type": "stream",
     "text": [
      "Processing 23201/25596\n"
     ]
    },
    {
     "name": "stderr",
     "output_type": "stream",
     "text": [
      " 91%|█████████ | 23302/25596 [1:20:19<06:07,  6.24it/s]"
     ]
    },
    {
     "name": "stdout",
     "output_type": "stream",
     "text": [
      "Processing 23301/25596\n"
     ]
    },
    {
     "name": "stderr",
     "output_type": "stream",
     "text": [
      " 91%|█████████▏| 23401/25596 [1:20:35<05:44,  6.38it/s]"
     ]
    },
    {
     "name": "stdout",
     "output_type": "stream",
     "text": [
      "Processing 23401/25596\n"
     ]
    },
    {
     "name": "stderr",
     "output_type": "stream",
     "text": [
      " 92%|█████████▏| 23502/25596 [1:20:51<03:36,  9.66it/s]"
     ]
    },
    {
     "name": "stdout",
     "output_type": "stream",
     "text": [
      "Processing 23501/25596\n"
     ]
    },
    {
     "name": "stderr",
     "output_type": "stream",
     "text": [
      " 92%|█████████▏| 23603/25596 [1:21:01<01:51, 17.83it/s]"
     ]
    },
    {
     "name": "stdout",
     "output_type": "stream",
     "text": [
      "Processing 23601/25596\n"
     ]
    },
    {
     "name": "stderr",
     "output_type": "stream",
     "text": [
      " 93%|█████████▎| 23703/25596 [1:21:08<01:46, 17.73it/s]"
     ]
    },
    {
     "name": "stdout",
     "output_type": "stream",
     "text": [
      "Processing 23701/25596\n"
     ]
    },
    {
     "name": "stderr",
     "output_type": "stream",
     "text": [
      " 93%|█████████▎| 23802/25596 [1:21:14<01:56, 15.42it/s]"
     ]
    },
    {
     "name": "stdout",
     "output_type": "stream",
     "text": [
      "Processing 23801/25596\n"
     ]
    },
    {
     "name": "stderr",
     "output_type": "stream",
     "text": [
      " 93%|█████████▎| 23901/25596 [1:21:23<02:59,  9.46it/s]"
     ]
    },
    {
     "name": "stdout",
     "output_type": "stream",
     "text": [
      "Processing 23901/25596\n"
     ]
    },
    {
     "name": "stderr",
     "output_type": "stream",
     "text": [
      " 94%|█████████▍| 24000/25596 [1:21:47<16:40,  1.59it/s]"
     ]
    },
    {
     "name": "stdout",
     "output_type": "stream",
     "text": [
      "Processing 24001/25596\n"
     ]
    },
    {
     "name": "stderr",
     "output_type": "stream",
     "text": [
      " 94%|█████████▍| 24100/25596 [1:22:20<05:22,  4.64it/s]"
     ]
    },
    {
     "name": "stdout",
     "output_type": "stream",
     "text": [
      "Processing 24101/25596\n"
     ]
    },
    {
     "name": "stderr",
     "output_type": "stream",
     "text": [
      " 95%|█████████▍| 24200/25596 [1:22:46<03:25,  6.78it/s]"
     ]
    },
    {
     "name": "stdout",
     "output_type": "stream",
     "text": [
      "Processing 24201/25596\n"
     ]
    },
    {
     "name": "stderr",
     "output_type": "stream",
     "text": [
      " 95%|█████████▍| 24300/25596 [1:23:04<03:46,  5.72it/s]"
     ]
    },
    {
     "name": "stdout",
     "output_type": "stream",
     "text": [
      "Processing 24301/25596\n"
     ]
    },
    {
     "name": "stderr",
     "output_type": "stream",
     "text": [
      " 95%|█████████▌| 24401/25596 [1:23:29<09:51,  2.02it/s]"
     ]
    },
    {
     "name": "stdout",
     "output_type": "stream",
     "text": [
      "Processing 24401/25596\n"
     ]
    },
    {
     "name": "stderr",
     "output_type": "stream",
     "text": [
      " 96%|█████████▌| 24501/25596 [1:23:50<02:38,  6.91it/s]"
     ]
    },
    {
     "name": "stdout",
     "output_type": "stream",
     "text": [
      "Processing 24501/25596\n"
     ]
    },
    {
     "name": "stderr",
     "output_type": "stream",
     "text": [
      " 96%|█████████▌| 24601/25596 [1:23:59<01:14, 13.41it/s]"
     ]
    },
    {
     "name": "stdout",
     "output_type": "stream",
     "text": [
      "Processing 24601/25596\n"
     ]
    },
    {
     "name": "stderr",
     "output_type": "stream",
     "text": [
      " 97%|█████████▋| 24701/25596 [1:24:07<01:01, 14.56it/s]"
     ]
    },
    {
     "name": "stdout",
     "output_type": "stream",
     "text": [
      "Processing 24701/25596\n"
     ]
    },
    {
     "name": "stderr",
     "output_type": "stream",
     "text": [
      " 97%|█████████▋| 24802/25596 [1:24:14<01:03, 12.41it/s]"
     ]
    },
    {
     "name": "stdout",
     "output_type": "stream",
     "text": [
      "Processing 24801/25596\n"
     ]
    },
    {
     "name": "stderr",
     "output_type": "stream",
     "text": [
      " 97%|█████████▋| 24901/25596 [1:24:27<03:02,  3.82it/s]"
     ]
    },
    {
     "name": "stdout",
     "output_type": "stream",
     "text": [
      "Processing 24901/25596\n"
     ]
    },
    {
     "name": "stderr",
     "output_type": "stream",
     "text": [
      " 98%|█████████▊| 25001/25596 [1:24:46<01:20,  7.41it/s]"
     ]
    },
    {
     "name": "stdout",
     "output_type": "stream",
     "text": [
      "Processing 25001/25596\n"
     ]
    },
    {
     "name": "stderr",
     "output_type": "stream",
     "text": [
      " 98%|█████████▊| 25099/25596 [1:25:07<01:49,  4.55it/s]"
     ]
    },
    {
     "name": "stdout",
     "output_type": "stream",
     "text": [
      "Processing 25101/25596\n"
     ]
    },
    {
     "name": "stderr",
     "output_type": "stream",
     "text": [
      " 98%|█████████▊| 25200/25596 [1:25:33<02:08,  3.07it/s]"
     ]
    },
    {
     "name": "stdout",
     "output_type": "stream",
     "text": [
      "Processing 25201/25596\n"
     ]
    },
    {
     "name": "stderr",
     "output_type": "stream",
     "text": [
      " 99%|█████████▉| 25301/25596 [1:26:00<01:19,  3.70it/s]"
     ]
    },
    {
     "name": "stdout",
     "output_type": "stream",
     "text": [
      "Processing 25301/25596\n"
     ]
    },
    {
     "name": "stderr",
     "output_type": "stream",
     "text": [
      " 99%|█████████▉| 25401/25596 [1:26:26<00:47,  4.10it/s]"
     ]
    },
    {
     "name": "stdout",
     "output_type": "stream",
     "text": [
      "Processing 25401/25596\n"
     ]
    },
    {
     "name": "stderr",
     "output_type": "stream",
     "text": [
      "100%|█████████▉| 25500/25596 [1:26:52<00:14,  6.64it/s]"
     ]
    },
    {
     "name": "stdout",
     "output_type": "stream",
     "text": [
      "Processing 25501/25596\n"
     ]
    },
    {
     "name": "stderr",
     "output_type": "stream",
     "text": [
      "100%|██████████| 25596/25596 [1:27:15<00:00,  4.89it/s]\n"
     ]
    },
    {
     "name": "stdout",
     "output_type": "stream",
     "text": [
      "Made predictions for 25596 images\n",
      "Loading test labels...\n",
      "CSV loaded with shape: (112120, 12)\n",
      "CSV columns: ['Image Index', 'Finding Labels', 'Follow-up #', 'Patient ID', 'Patient Age', 'Patient Gender', 'View Position', 'OriginalImage[Width', 'Height]', 'OriginalImagePixelSpacing[x', 'y]', 'Unnamed: 11']\n",
      "Using columns: Image=Image Index, Finding=Finding Labels\n",
      "Matched 25596/25596 test files with labels\n",
      "Saved predictions to /userHome/userhome4/kyoungmin/code/Xray/CTransCNN/result/error_analysis_ipynb_version/predictions.pkl\n"
     ]
    }
   ],
   "source": [
    "# 셀 5: 전체 테스트셋 예측 및 저장\n",
    "def load_test_labels(found_images):\n",
    "    \"\"\"테스트 레이블 로드 함수\"\"\"\n",
    "    print(\"Loading test labels...\")\n",
    "    data_path = \"/userHome/userhome4/kyoungmin/code/Xray/dataset/Data_Entry_2017.csv\"\n",
    "    \n",
    "    try:\n",
    "        labels_df = pd.read_csv(data_path)\n",
    "        print(f\"CSV loaded with shape: {labels_df.shape}\")\n",
    "        print(f\"CSV columns: {labels_df.columns.tolist()}\")\n",
    "        \n",
    "        # 이미지 ID 컬럼과 레이블 컬럼 찾기\n",
    "        img_col = None\n",
    "        for col in labels_df.columns:\n",
    "            if 'Image' in col:\n",
    "                img_col = col\n",
    "                break\n",
    "                \n",
    "        if img_col is None:\n",
    "            raise ValueError(\"Image column not found in CSV\")\n",
    "            \n",
    "        finding_col = None\n",
    "        for col in labels_df.columns:\n",
    "            if 'Finding' in col:\n",
    "                finding_col = col\n",
    "                break\n",
    "                \n",
    "        if finding_col is None:\n",
    "            raise ValueError(\"Finding column not found in CSV\")\n",
    "            \n",
    "        print(f\"Using columns: Image={img_col}, Finding={finding_col}\")\n",
    "        \n",
    "        # 질병 레이블 원-핫 인코딩\n",
    "        for disease in disease_labels: \n",
    "            labels_df[disease] = labels_df[finding_col].apply(\n",
    "                lambda x: 1 if disease in str(x) else 0\n",
    "            )\n",
    "        \n",
    "        # 테스트 파일에 대한 레이블 매칭\n",
    "        test_labels = np.zeros((len(found_images), len(disease_labels)))\n",
    "        matched_count = 0\n",
    "        \n",
    "        for i, img_name in enumerate(found_images):\n",
    "            # 파일명만 추출\n",
    "            img_base = os.path.basename(img_name)\n",
    "            \n",
    "            # 완전 일치 시도\n",
    "            match = labels_df[labels_df[img_col] == img_base]\n",
    "            \n",
    "            # 일치하지 않으면 부분 일치 시도\n",
    "            if len(match) == 0:\n",
    "                match = labels_df[labels_df[img_col].str.contains(img_base, na=False)]\n",
    "            \n",
    "            if len(match) > 0:\n",
    "                matched_count += 1\n",
    "                row = match.iloc[0]\n",
    "                for j, disease in enumerate(disease_labels):\n",
    "                    test_labels[i, j] = row[disease]\n",
    "        \n",
    "        print(f\"Matched {matched_count}/{len(found_images)} test files with labels\")\n",
    "        return test_labels\n",
    "        \n",
    "    except Exception as e:\n",
    "        print(f\"Error loading labels: {e}\")\n",
    "        return np.zeros((len(found_images), len(disease_labels)))\n",
    "\n",
    "# 예측 결과 파일 확인\n",
    "prediction_file = os.path.join(BASE_RESULT_DIR, \"predictions.pkl\")\n",
    "if os.path.exists(prediction_file):\n",
    "    print(f\"Loading existing predictions from {prediction_file}\")\n",
    "    with open(prediction_file, 'rb') as f:\n",
    "        saved_results = pickle.load(f)\n",
    "    \n",
    "    all_probs = saved_results['probs']\n",
    "    all_targets = saved_results['targets']\n",
    "    found_images = saved_results['filenames']\n",
    "    print(f\"Loaded predictions for {len(all_probs)} images\")\n",
    "else:\n",
    "    print(\"Running new predictions on test set...\")\n",
    "    all_probs = []\n",
    "    found_images = []\n",
    "    \n",
    "    # 이미지 로드 및 예측\n",
    "    for i, filename in enumerate(tqdm(test_files)):\n",
    "        if i % 100 == 0:\n",
    "            print(f\"Processing {i+1}/{len(test_files)}\")\n",
    "            \n",
    "        # 이미지 파일 찾기\n",
    "        img_path = None\n",
    "        for img_dir in image_dirs:\n",
    "            candidate_path = os.path.join(img_dir, filename)\n",
    "            if os.path.exists(candidate_path):\n",
    "                img_path = candidate_path\n",
    "                break\n",
    "        \n",
    "        if img_path is None:\n",
    "            print(f\"Warning: Image {filename} not found\")\n",
    "            continue\n",
    "            \n",
    "        # 이미지 예측\n",
    "        pred = predict_single_image(model, img_path)\n",
    "        if pred is not None:\n",
    "            all_probs.append(pred)\n",
    "            found_images.append(filename)\n",
    "    \n",
    "    all_probs = np.array(all_probs)\n",
    "    print(f\"Made predictions for {len(all_probs)} images\")\n",
    "    \n",
    "    # 테스트 레이블 로드\n",
    "    all_targets = load_test_labels(found_images)\n",
    "    \n",
    "    # 결과 저장\n",
    "    with open(prediction_file, 'wb') as f:\n",
    "        pickle.dump({\n",
    "            'probs': all_probs,\n",
    "            'targets': all_targets,\n",
    "            'filenames': found_images,\n",
    "            'disease_labels': disease_labels\n",
    "        }, f)\n",
    "    \n",
    "    print(f\"Saved predictions to {prediction_file}\")\n"
   ]
  },
  {
   "cell_type": "code",
   "execution_count": 6,
   "metadata": {},
   "outputs": [
    {
     "name": "stdout",
     "output_type": "stream",
     "text": [
      "Analyzed 25596 samples\n",
      "Top error score: 0.3440\n",
      "Median error score: 0.2066\n",
      "Extracted top 5119 samples with highest errors\n"
     ]
    }
   ],
   "source": [
    "# 셀 6: 오류 계산 및 분석\n",
    "\n",
    "def calculate_sample_errors(probs, targets):\n",
    "    \"\"\"\n",
    "    교수님 지시에 따라 각 샘플의 오류 크기 계산:\n",
    "    - 정답이 0인데 예측이 양수 -> 오류 = 예측값\n",
    "    - 정답이 1인데 예측이 음수 -> 오류 = 1-예측값\n",
    "    \"\"\"\n",
    "    n_samples = probs.shape[0]\n",
    "    n_classes = probs.shape[1]\n",
    "    \n",
    "    # logit값으로 변환 (시그모이드 역변환)\n",
    "    epsilon = 1e-7  # 수치 안정성을 위한 작은 값\n",
    "    logits = np.log((probs + epsilon) / (1 - probs + epsilon))\n",
    "    \n",
    "    sample_errors = []\n",
    "    \n",
    "    for i in range(n_samples):\n",
    "        errors = []\n",
    "        \n",
    "        for c in range(n_classes):\n",
    "            true_label = targets[i, c]\n",
    "            net_value = logits[i, c]\n",
    "            \n",
    "            if true_label == 0:\n",
    "                # 정답이 0일 때, 양수 net value가 오류\n",
    "                error = max(0, net_value)\n",
    "            else:\n",
    "                # 정답이 1일 때, 음수 net value가 오류 (절대값 적용)\n",
    "                error = max(0, -net_value)\n",
    "            \n",
    "            errors.append(error)\n",
    "        \n",
    "        # 샘플의 전체 오류 = 각 클래스 오류의 평균\n",
    "        sample_errors.append(np.mean(errors))\n",
    "    \n",
    "    return np.array(sample_errors)\n",
    "\n",
    "# 오류 계산\n",
    "sample_errors = calculate_sample_errors(all_probs, all_targets)\n",
    "\n",
    "# 상위 오류 샘플 분석\n",
    "sorted_indices = np.argsort(sample_errors)[::-1]  # 내림차순 정렬\n",
    "top_20_percent = int(len(sorted_indices) * 0.2)\n",
    "high_error_indices = sorted_indices[:top_20_percent]\n",
    "\n",
    "print(f\"Analyzed {len(sample_errors)} samples\")\n",
    "print(f\"Top error score: {sample_errors[sorted_indices[0]]:.4f}\")\n",
    "print(f\"Median error score: {np.median(sample_errors):.4f}\")\n",
    "print(f\"Extracted top {top_20_percent} samples with highest errors\")\n"
   ]
  },
  {
   "cell_type": "code",
   "execution_count": 7,
   "metadata": {},
   "outputs": [
    {
     "data": {
      "image/png": "[encoded data removed]",
      "text/plain": [
       "<Figure size 1500x1000 with 1 Axes>"
      ]
     },
     "metadata": {},
     "output_type": "display_data"
    },
    {
     "name": "stdout",
     "output_type": "stream",
     "text": [
      "✅ Error analysis saved to '/userHome/userhome4/kyoungmin/code/Xray/CTransCNN/result/error_analysis_ipynb_version/plots/ctranscnn_error_patterns.png' and '/userHome/userhome4/kyoungmin/code/Xray/CTransCNN/result/error_analysis_ipynb_version/metrics/ctranscnn_high_error_samples.csv'\n"
     ]
    }
   ],
   "source": [
    "# 셀 7: 오류 시각화 및 메트릭 계산\n",
    "\n",
    "# 이진 예측값 생성\n",
    "binary_preds = (all_probs >= 0.5).astype(int)\n",
    "\n",
    "# 클래스별 오류 패턴 분석\n",
    "class_error_counts = {cls: 0 for cls in disease_labels}\n",
    "false_positives = {cls: 0 for cls in disease_labels}\n",
    "false_negatives = {cls: 0 for cls in disease_labels}\n",
    "\n",
    "for idx in high_error_indices:\n",
    "    for c, cls_name in enumerate(disease_labels):\n",
    "        true_label = all_targets[idx, c]\n",
    "        pred_label = binary_preds[idx, c]\n",
    "        \n",
    "        if pred_label != true_label:\n",
    "            class_error_counts[cls_name] += 1\n",
    "            \n",
    "            if true_label == 0 and pred_label == 1:\n",
    "                false_positives[cls_name] += 1\n",
    "            elif true_label == 1 and pred_label == 0:\n",
    "                false_negatives[cls_name] += 1\n",
    "\n",
    "# 오류 패턴 시각화\n",
    "plt.figure(figsize=(15, 10))\n",
    "\n",
    "# 총 오류 수 기준 클래스 정렬\n",
    "sorted_classes = sorted(class_error_counts.items(), key=lambda x: x[1], reverse=True)\n",
    "sorted_class_names = [item[0] for item in sorted_classes]\n",
    "\n",
    "# 거짓 양성과 거짓 음성 데이터 준비\n",
    "fp_data = [false_positives[cls] for cls in sorted_class_names]\n",
    "fn_data = [false_negatives[cls] for cls in sorted_class_names]\n",
    "\n",
    "# 누적 막대 그래프 그리기\n",
    "bar_width = 0.8\n",
    "plt.bar(sorted_class_names, fp_data, bar_width, label='False Positive')\n",
    "plt.bar(sorted_class_names, fn_data, bar_width, bottom=fp_data, label='False Negative')\n",
    "\n",
    "plt.xlabel('Disease Class')\n",
    "plt.ylabel('Number of Errors')\n",
    "plt.title('Error Patterns by Disease Class (Top 20% Error Samples)')\n",
    "plt.xticks(rotation=45, ha='right')\n",
    "plt.legend()\n",
    "plt.tight_layout()\n",
    "\n",
    "# 그래프 저장\n",
    "error_plot_file = os.path.join(plots_dir, \"ctranscnn_error_patterns.png\")\n",
    "plt.savefig(error_plot_file)\n",
    "plt.show()\n",
    "\n",
    "# 상위 20% 오류 샘플 정보 저장\n",
    "high_error_df = pd.DataFrame({\n",
    "    'Index': high_error_indices,\n",
    "    'Filename': [found_images[i] for i in high_error_indices],\n",
    "    'Error_Score': sample_errors[high_error_indices]\n",
    "})\n",
    "\n",
    "for i, cls in enumerate(disease_labels):\n",
    "    high_error_df[f'True_{cls}'] = [all_targets[idx, i] for idx in high_error_indices]\n",
    "    high_error_df[f'Pred_{cls}'] = [all_probs[idx, i] for idx in high_error_indices]\n",
    "\n",
    "high_error_file = os.path.join(metrics_dir, \"ctranscnn_high_error_samples.csv\")\n",
    "high_error_df.to_csv(high_error_file)\n",
    "\n",
    "print(f\"✅ Error analysis saved to '{error_plot_file}' and '{high_error_file}'\")\n"
   ]
  },
  {
   "cell_type": "code",
   "execution_count": 8,
   "metadata": {},
   "outputs": [
    {
     "name": "stdout",
     "output_type": "stream",
     "text": [
      "\n",
      "주요 다중 레이블 분류 지표:\n",
      "hamming_loss: 0.9241\n",
      "ranking_loss: 0.1198\n",
      "multilabel_accuracy: 0.0759\n",
      "one_error: 0.6245\n",
      "multilabel_coverage: 2.2873\n",
      "subset_accuracy: 0.0000\n",
      "micro_f1_score: 0.1411\n",
      "macro_f1_score: 0.1349\n",
      "\n",
      "클래스별 성능:\n",
      "                         AUC  Precision  Recall        F1\n",
      "Atelectasis         0.796760   0.128106     1.0  0.227117\n",
      "Cardiomegaly        0.926596   0.041764     1.0  0.080180\n",
      "Effusion            0.862090   0.181982     1.0  0.307926\n",
      "Infiltration        0.730705   0.238787     1.0  0.385518\n",
      "Mass                0.860332   0.068292     1.0  0.127853\n",
      "Nodule              0.772120   0.063408     1.0  0.119255\n",
      "Pneumonia           0.765824   0.021683     1.0  0.042446\n",
      "Pneumothorax        0.904845   0.104118     1.0  0.188599\n",
      "Consolidation       0.778209   0.070910     1.0  0.132429\n",
      "Edema               0.888705   0.036138     1.0  0.069756\n",
      "Emphysema           0.921933   0.042702     1.0  0.081906\n",
      "Fibrosis            0.865205   0.016995     1.0  0.033422\n",
      "Pleural_Thickening  0.804801   0.044655     1.0  0.085493\n",
      "Hernia              0.935139   0.003360     1.0  0.006697\n",
      "Macro_Average       0.843805   0.075921     1.0  0.134900\n"
     ]
    }
   ],
   "source": [
    "# 셀 8: 다중 레이블 분류 지표 계산\n",
    "\n",
    "# 다중 레이블 분류 지표 계산 함수\n",
    "def hamming_loss(y_true, y_pred):\n",
    "    return np.mean(np.not_equal(y_true, y_pred))\n",
    "\n",
    "def ranking_loss(y_true, y_pred_scores):\n",
    "    n_samples = y_true.shape[0]\n",
    "    total_pairs = 0\n",
    "    total_wrong_pairs = 0\n",
    "    \n",
    "    for i in range(n_samples):\n",
    "        relevant = np.where(y_true[i] == 1)[0]\n",
    "        irrelevant = np.where(y_true[i] == 0)[0]\n",
    "        \n",
    "        if len(relevant) == 0 or len(irrelevant) == 0:\n",
    "            continue\n",
    "        \n",
    "        pairs = len(relevant) * len(irrelevant)\n",
    "        wrong_pairs = 0\n",
    "        \n",
    "        for r in relevant:\n",
    "            for ir in irrelevant:\n",
    "                if y_pred_scores[i, r] <= y_pred_scores[i, ir]:\n",
    "                    wrong_pairs += 1\n",
    "        \n",
    "        total_pairs += pairs\n",
    "        total_wrong_pairs += wrong_pairs\n",
    "    \n",
    "    return total_wrong_pairs / total_pairs if total_pairs > 0 else 0\n",
    "\n",
    "def multilabel_accuracy(y_true, y_pred):\n",
    "    n_samples = y_true.shape[0]\n",
    "    accuracies = []\n",
    "    \n",
    "    for i in range(n_samples):\n",
    "        intersection = np.sum(np.logical_and(y_true[i], y_pred[i]))\n",
    "        union = np.sum(np.logical_or(y_true[i], y_pred[i]))\n",
    "        \n",
    "        if union == 0:\n",
    "            accuracies.append(1.0)  # 모든 레이블이 0인 경우\n",
    "        else:\n",
    "            accuracies.append(intersection / union)\n",
    "    \n",
    "    return np.mean(accuracies)\n",
    "\n",
    "def one_error(y_true, y_pred_scores):\n",
    "    n_samples = y_true.shape[0]\n",
    "    errors = 0\n",
    "    \n",
    "    for i in range(n_samples):\n",
    "        top_label = np.argmax(y_pred_scores[i])\n",
    "        if y_true[i, top_label] == 0:\n",
    "            errors += 1\n",
    "    \n",
    "    return errors / n_samples\n",
    "\n",
    "def multilabel_coverage(y_true, y_pred_scores, k=None):\n",
    "    n_samples, n_classes = y_true.shape\n",
    "    if k is None:\n",
    "        k = n_classes\n",
    "    coverage = 0\n",
    "    \n",
    "    for i in range(n_samples):\n",
    "        # 관련 레이블(실제 값이 1인 레이블) 찾기\n",
    "        relevant = np.where(y_true[i] == 1)[0]\n",
    "        if len(relevant) == 0:\n",
    "            continue\n",
    "        \n",
    "        # 예측 점수에 따라 레이블 순위 매기기\n",
    "        ranks = np.argsort(y_pred_scores[i])[::-1]\n",
    "        \n",
    "        # 관련 레이블의 최대 랭크 찾기\n",
    "        max_rank = 0\n",
    "        for label in relevant:\n",
    "            rank = np.where(ranks == label)[0][0] + 1  # 0-indexed를 1-indexed로 변환\n",
    "            max_rank = max(max_rank, rank)\n",
    "        \n",
    "        coverage += max_rank\n",
    "    \n",
    "    return coverage / n_samples\n",
    "\n",
    "def subset_accuracy(y_true, y_pred):\n",
    "    \"\"\"예측 레이블 세트가 실제 레이블 세트와 정확히 일치하는 비율\"\"\"\n",
    "    return np.mean(np.all(y_true == y_pred, axis=1))\n",
    "\n",
    "def micro_f1_score(y_true, y_pred):\n",
    "    \"\"\"모든 샘플과 클래스에 대한 전체 TP, FP, FN으로 단일 F1 계산\"\"\"\n",
    "    tp = np.sum((y_true == 1) & (y_pred == 1))\n",
    "    fp = np.sum((y_true == 0) & (y_pred == 1))\n",
    "    fn = np.sum((y_true == 1) & (y_pred == 0))\n",
    "    \n",
    "    micro_precision = tp / (tp + fp) if (tp + fp) > 0 else 0\n",
    "    micro_recall = tp / (tp + fn) if (tp + fn) > 0 else 0\n",
    "    \n",
    "    if micro_precision + micro_recall == 0:\n",
    "        return 0\n",
    "    \n",
    "    return 2 * (micro_precision * micro_recall) / (micro_precision + micro_recall)\n",
    "\n",
    "# 다중 레이블 분류 지표 계산\n",
    "metrics = {\n",
    "    'hamming_loss': hamming_loss(all_targets, binary_preds),\n",
    "    'ranking_loss': ranking_loss(all_targets, all_probs),\n",
    "    'multilabel_accuracy': multilabel_accuracy(all_targets, binary_preds),\n",
    "    'one_error': one_error(all_targets, all_probs),\n",
    "    'multilabel_coverage': multilabel_coverage(all_targets, all_probs),\n",
    "    'subset_accuracy': subset_accuracy(all_targets, binary_preds),\n",
    "    'micro_f1_score': micro_f1_score(all_targets, binary_preds)\n",
    "}\n",
    "\n",
    "# 클래스별 AUC-ROC 계산\n",
    "class_aucs = {}\n",
    "for i, cls in enumerate(disease_labels):\n",
    "    try:\n",
    "        auc_score = roc_auc_score(all_targets[:, i], all_probs[:, i])\n",
    "        class_aucs[cls] = auc_score\n",
    "    except:\n",
    "        class_aucs[cls] = float('nan')  # 한 클래스만 있는 경우\n",
    "\n",
    "# 클래스별 정밀도, 재현율, F1 점수 계산\n",
    "precision_values = []\n",
    "recall_values = []\n",
    "f1_values = []\n",
    "\n",
    "for i, cls in enumerate(disease_labels):\n",
    "    true_pos = np.sum((all_targets[:, i] == 1) & (binary_preds[:, i] == 1))\n",
    "    false_pos = np.sum((all_targets[:, i] == 0) & (binary_preds[:, i] == 1))\n",
    "    false_neg = np.sum((all_targets[:, i] == 1) & (binary_preds[:, i] == 0))\n",
    "    \n",
    "    precision = true_pos / (true_pos + false_pos) if (true_pos + false_pos) > 0 else 0\n",
    "    recall = true_pos / (true_pos + false_neg) if (true_pos + false_neg) > 0 else 0\n",
    "    f1 = 2 * (precision * recall) / (precision + recall) if (precision + recall) > 0 else 0\n",
    "    \n",
    "    precision_values.append(precision)\n",
    "    recall_values.append(recall)\n",
    "    f1_values.append(f1)\n",
    "\n",
    "# Macro F1 Score 계산 및 추가\n",
    "macro_f1 = np.mean(f1_values)\n",
    "metrics['macro_f1_score'] = macro_f1\n",
    "\n",
    "# 성능 테이블 생성\n",
    "performance_table = pd.DataFrame(index=disease_labels)\n",
    "performance_table['AUC'] = [class_aucs[cls] for cls in disease_labels]\n",
    "performance_table['Precision'] = precision_values\n",
    "performance_table['Recall'] = recall_values\n",
    "performance_table['F1'] = f1_values\n",
    "\n",
    "# Macro 평균값 계산\n",
    "performance_table.loc['Macro_Average'] = performance_table.mean()\n",
    "\n",
    "# 결과 저장\n",
    "metrics_file = os.path.join(metrics_dir, \"ctranscnn_multilabel_metrics.json\")\n",
    "with open(metrics_file, 'w') as f:\n",
    "    import json\n",
    "    json.dump(metrics, f, indent=4)\n",
    "\n",
    "performance_file = os.path.join(metrics_dir, \"ctranscnn_performance_table.csv\")\n",
    "performance_table.to_csv(performance_file)\n",
    "\n",
    "# 결과 출력\n",
    "print(\"\\n주요 다중 레이블 분류 지표:\")\n",
    "for key, value in metrics.items():\n",
    "    print(f\"{key}: {value:.4f}\")\n",
    "\n",
    "# 성능 테이블 출력\n",
    "print(\"\\n클래스별 성능:\")\n",
    "print(performance_table)\n"
   ]
  },
  {
   "cell_type": "code",
   "execution_count": 9,
   "metadata": {},
   "outputs": [
    {
     "data": {
      "image/png": "[encoded data removed]",
      "text/plain": [
       "<Figure size 1500x800 with 1 Axes>"
      ]
     },
     "metadata": {},
     "output_type": "display_data"
    },
    {
     "name": "stdout",
     "output_type": "stream",
     "text": [
      "✅ AUC-ROC visualization saved to '/userHome/userhome4/kyoungmin/code/Xray/CTransCNN/result/error_analysis_ipynb_version/plots/ctranscnn_auc_by_class.png'\n",
      "\n",
      "===== 분석 완료 =====\n",
      "결과 저장 위치: /userHome/userhome4/kyoungmin/code/Xray/CTransCNN/result/error_analysis_ipynb_version\n"
     ]
    }
   ],
   "source": [
    "# 셀 9: AUC-ROC 시각화\n",
    "\n",
    "# ROC-AUC 시각화\n",
    "plt.figure(figsize=(15, 8))\n",
    "sorted_aucs = sorted(class_aucs.items(), key=lambda x: x[1])\n",
    "cls_names = [item[0] for item in sorted_aucs]\n",
    "auc_values = [item[1] for item in sorted_aucs]\n",
    "\n",
    "plt.bar(cls_names, auc_values)\n",
    "macro_auc = np.nanmean(list(class_aucs.values()))\n",
    "plt.axhline(y=macro_auc, color='r', linestyle='-', label=f'Macro AUC: {macro_auc:.4f}')\n",
    "plt.xlabel('Disease Class')\n",
    "plt.ylabel('AUC-ROC')\n",
    "plt.title('AUC-ROC by Disease Class')\n",
    "plt.xticks(rotation=45, ha='right')\n",
    "plt.ylim(0, 1)\n",
    "plt.legend()\n",
    "plt.tight_layout()\n",
    "\n",
    "auc_plot_file = os.path.join(plots_dir, \"ctranscnn_auc_by_class.png\")\n",
    "plt.savefig(auc_plot_file)\n",
    "plt.show()\n",
    "\n",
    "print(f\"✅ AUC-ROC visualization saved to '{auc_plot_file}'\")\n",
    "print(\"\\n===== 분석 완료 =====\")\n",
    "print(f\"결과 저장 위치: {BASE_RESULT_DIR}\")\n"
   ]
  }
 ],
 "metadata": {
  "kernelspec": {
   "display_name": "ctranscnn",
   "language": "python",
   "name": "python3"
  },
  "language_info": {
   "codemirror_mode": {
    "name": "ipython",
    "version": 3
   },
   "file_extension": ".py",
   "mimetype": "text/x-python",
   "name": "python",
   "nbconvert_exporter": "python",
   "pygments_lexer": "ipython3",
   "version": "3.9.21"
  }
 },
 "nbformat": 4,
 "nbformat_minor": 2
}
